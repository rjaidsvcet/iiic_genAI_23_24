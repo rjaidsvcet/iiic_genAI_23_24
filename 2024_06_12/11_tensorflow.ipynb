{
  "cells": [
    {
      "cell_type": "code",
      "execution_count": null,
      "metadata": {
        "colab": {
          "base_uri": "https://localhost:8080/"
        },
        "id": "-C8MczA9t4w1",
        "outputId": "cce44df5-4450-40de-b28c-e1913e74214d"
      },
      "outputs": [
        {
          "name": "stdout",
          "output_type": "stream",
          "text": [
            "--2024-06-10 15:49:04--  https://nlp.stanford.edu/data/glove.6B.zip\n",
            "Resolving nlp.stanford.edu (nlp.stanford.edu)... 171.64.67.140\n",
            "Connecting to nlp.stanford.edu (nlp.stanford.edu)|171.64.67.140|:443... connected.\n",
            "HTTP request sent, awaiting response... 301 Moved Permanently\n",
            "Location: https://downloads.cs.stanford.edu/nlp/data/glove.6B.zip [following]\n",
            "--2024-06-10 15:49:04--  https://downloads.cs.stanford.edu/nlp/data/glove.6B.zip\n",
            "Resolving downloads.cs.stanford.edu (downloads.cs.stanford.edu)... 171.64.64.22\n",
            "Connecting to downloads.cs.stanford.edu (downloads.cs.stanford.edu)|171.64.64.22|:443... connected.\n",
            "HTTP request sent, awaiting response... 200 OK\n",
            "Length: 862182613 (822M) [application/zip]\n",
            "Saving to: ‘glove.6B.zip’\n",
            "\n",
            "glove.6B.zip        100%[===================>] 822.24M  5.02MB/s    in 2m 39s  \n",
            "\n",
            "2024-06-10 15:51:43 (5.18 MB/s) - ‘glove.6B.zip’ saved [862182613/862182613]\n",
            "\n"
          ]
        }
      ],
      "source": [
        "!wget https://nlp.stanford.edu/data/glove.6B.zip"
      ]
    },
    {
      "cell_type": "code",
      "execution_count": null,
      "metadata": {
        "colab": {
          "base_uri": "https://localhost:8080/"
        },
        "id": "02q6jopnvi2P",
        "outputId": "8e21b43a-23be-4474-fa5f-c58e39db6a64"
      },
      "outputs": [
        {
          "name": "stdout",
          "output_type": "stream",
          "text": [
            "Archive:  /content/glove.6B.zip\n",
            "  inflating: glove.6B.50d.txt        \n",
            "  inflating: glove.6B.100d.txt       \n",
            "  inflating: glove.6B.200d.txt       \n",
            "  inflating: glove.6B.300d.txt       \n"
          ]
        }
      ],
      "source": [
        "!unzip /content/glove.6B.zip"
      ]
    },
    {
      "cell_type": "code",
      "execution_count": null,
      "metadata": {
        "id": "RtNIgIZpwMjL"
      },
      "outputs": [],
      "source": [
        "import pandas as pd\n",
        "import tensorflow as tf\n",
        "from tensorflow.keras.preprocessing.text import Tokenizer\n",
        "from tensorflow.keras.preprocessing.sequence import pad_sequences"
      ]
    },
    {
      "cell_type": "code",
      "execution_count": null,
      "metadata": {
        "colab": {
          "base_uri": "https://localhost:8080/",
          "height": 206
        },
        "id": "NRoAkIWnwU2c",
        "outputId": "bae552d1-142b-473f-828a-a2dd863acb67"
      },
      "outputs": [
        {
          "data": {
            "application/vnd.google.colaboratory.intrinsic+json": {
              "summary": "{\n  \"name\": \"df\",\n  \"rows\": 5572,\n  \"fields\": [\n    {\n      \"column\": \"Category\",\n      \"properties\": {\n        \"dtype\": \"number\",\n        \"std\": 0,\n        \"min\": 0,\n        \"max\": 1,\n        \"num_unique_values\": 2,\n        \"samples\": [\n          1,\n          0\n        ],\n        \"semantic_type\": \"\",\n        \"description\": \"\"\n      }\n    },\n    {\n      \"column\": \"Message\",\n      \"properties\": {\n        \"dtype\": \"string\",\n        \"num_unique_values\": 5157,\n        \"samples\": [\n          \"Also sir, i sent you an email about how to log into the usc payment portal. I.ll send you another message that should explain how things are back home. Have a great weekend.\",\n          \"Are you free now?can i call now?\"\n        ],\n        \"semantic_type\": \"\",\n        \"description\": \"\"\n      }\n    }\n  ]\n}",
              "type": "dataframe",
              "variable_name": "df"
            },
            "text/html": [
              "\n",
              "  <div id=\"df-e453358e-2d91-40b0-964a-88b308936e2d\" class=\"colab-df-container\">\n",
              "    <div>\n",
              "<style scoped>\n",
              "    .dataframe tbody tr th:only-of-type {\n",
              "        vertical-align: middle;\n",
              "    }\n",
              "\n",
              "    .dataframe tbody tr th {\n",
              "        vertical-align: top;\n",
              "    }\n",
              "\n",
              "    .dataframe thead th {\n",
              "        text-align: right;\n",
              "    }\n",
              "</style>\n",
              "<table border=\"1\" class=\"dataframe\">\n",
              "  <thead>\n",
              "    <tr style=\"text-align: right;\">\n",
              "      <th></th>\n",
              "      <th>Category</th>\n",
              "      <th>Message</th>\n",
              "    </tr>\n",
              "  </thead>\n",
              "  <tbody>\n",
              "    <tr>\n",
              "      <th>0</th>\n",
              "      <td>0</td>\n",
              "      <td>Go until jurong point, crazy.. Available only ...</td>\n",
              "    </tr>\n",
              "    <tr>\n",
              "      <th>1</th>\n",
              "      <td>0</td>\n",
              "      <td>Ok lar... Joking wif u oni...</td>\n",
              "    </tr>\n",
              "    <tr>\n",
              "      <th>2</th>\n",
              "      <td>1</td>\n",
              "      <td>Free entry in 2 a wkly comp to win FA Cup fina...</td>\n",
              "    </tr>\n",
              "    <tr>\n",
              "      <th>3</th>\n",
              "      <td>0</td>\n",
              "      <td>U dun say so early hor... U c already then say...</td>\n",
              "    </tr>\n",
              "    <tr>\n",
              "      <th>4</th>\n",
              "      <td>0</td>\n",
              "      <td>Nah I don't think he goes to usf, he lives aro...</td>\n",
              "    </tr>\n",
              "  </tbody>\n",
              "</table>\n",
              "</div>\n",
              "    <div class=\"colab-df-buttons\">\n",
              "\n",
              "  <div class=\"colab-df-container\">\n",
              "    <button class=\"colab-df-convert\" onclick=\"convertToInteractive('df-e453358e-2d91-40b0-964a-88b308936e2d')\"\n",
              "            title=\"Convert this dataframe to an interactive table.\"\n",
              "            style=\"display:none;\">\n",
              "\n",
              "  <svg xmlns=\"http://www.w3.org/2000/svg\" height=\"24px\" viewBox=\"0 -960 960 960\">\n",
              "    <path d=\"M120-120v-720h720v720H120Zm60-500h600v-160H180v160Zm220 220h160v-160H400v160Zm0 220h160v-160H400v160ZM180-400h160v-160H180v160Zm440 0h160v-160H620v160ZM180-180h160v-160H180v160Zm440 0h160v-160H620v160Z\"/>\n",
              "  </svg>\n",
              "    </button>\n",
              "\n",
              "  <style>\n",
              "    .colab-df-container {\n",
              "      display:flex;\n",
              "      gap: 12px;\n",
              "    }\n",
              "\n",
              "    .colab-df-convert {\n",
              "      background-color: #E8F0FE;\n",
              "      border: none;\n",
              "      border-radius: 50%;\n",
              "      cursor: pointer;\n",
              "      display: none;\n",
              "      fill: #1967D2;\n",
              "      height: 32px;\n",
              "      padding: 0 0 0 0;\n",
              "      width: 32px;\n",
              "    }\n",
              "\n",
              "    .colab-df-convert:hover {\n",
              "      background-color: #E2EBFA;\n",
              "      box-shadow: 0px 1px 2px rgba(60, 64, 67, 0.3), 0px 1px 3px 1px rgba(60, 64, 67, 0.15);\n",
              "      fill: #174EA6;\n",
              "    }\n",
              "\n",
              "    .colab-df-buttons div {\n",
              "      margin-bottom: 4px;\n",
              "    }\n",
              "\n",
              "    [theme=dark] .colab-df-convert {\n",
              "      background-color: #3B4455;\n",
              "      fill: #D2E3FC;\n",
              "    }\n",
              "\n",
              "    [theme=dark] .colab-df-convert:hover {\n",
              "      background-color: #434B5C;\n",
              "      box-shadow: 0px 1px 3px 1px rgba(0, 0, 0, 0.15);\n",
              "      filter: drop-shadow(0px 1px 2px rgba(0, 0, 0, 0.3));\n",
              "      fill: #FFFFFF;\n",
              "    }\n",
              "  </style>\n",
              "\n",
              "    <script>\n",
              "      const buttonEl =\n",
              "        document.querySelector('#df-e453358e-2d91-40b0-964a-88b308936e2d button.colab-df-convert');\n",
              "      buttonEl.style.display =\n",
              "        google.colab.kernel.accessAllowed ? 'block' : 'none';\n",
              "\n",
              "      async function convertToInteractive(key) {\n",
              "        const element = document.querySelector('#df-e453358e-2d91-40b0-964a-88b308936e2d');\n",
              "        const dataTable =\n",
              "          await google.colab.kernel.invokeFunction('convertToInteractive',\n",
              "                                                    [key], {});\n",
              "        if (!dataTable) return;\n",
              "\n",
              "        const docLinkHtml = 'Like what you see? Visit the ' +\n",
              "          '<a target=\"_blank\" href=https://colab.research.google.com/notebooks/data_table.ipynb>data table notebook</a>'\n",
              "          + ' to learn more about interactive tables.';\n",
              "        element.innerHTML = '';\n",
              "        dataTable['output_type'] = 'display_data';\n",
              "        await google.colab.output.renderOutput(dataTable, element);\n",
              "        const docLink = document.createElement('div');\n",
              "        docLink.innerHTML = docLinkHtml;\n",
              "        element.appendChild(docLink);\n",
              "      }\n",
              "    </script>\n",
              "  </div>\n",
              "\n",
              "\n",
              "<div id=\"df-8bf1ebc7-45df-45b9-8550-72755279c414\">\n",
              "  <button class=\"colab-df-quickchart\" onclick=\"quickchart('df-8bf1ebc7-45df-45b9-8550-72755279c414')\"\n",
              "            title=\"Suggest charts\"\n",
              "            style=\"display:none;\">\n",
              "\n",
              "<svg xmlns=\"http://www.w3.org/2000/svg\" height=\"24px\"viewBox=\"0 0 24 24\"\n",
              "     width=\"24px\">\n",
              "    <g>\n",
              "        <path d=\"M19 3H5c-1.1 0-2 .9-2 2v14c0 1.1.9 2 2 2h14c1.1 0 2-.9 2-2V5c0-1.1-.9-2-2-2zM9 17H7v-7h2v7zm4 0h-2V7h2v10zm4 0h-2v-4h2v4z\"/>\n",
              "    </g>\n",
              "</svg>\n",
              "  </button>\n",
              "\n",
              "<style>\n",
              "  .colab-df-quickchart {\n",
              "      --bg-color: #E8F0FE;\n",
              "      --fill-color: #1967D2;\n",
              "      --hover-bg-color: #E2EBFA;\n",
              "      --hover-fill-color: #174EA6;\n",
              "      --disabled-fill-color: #AAA;\n",
              "      --disabled-bg-color: #DDD;\n",
              "  }\n",
              "\n",
              "  [theme=dark] .colab-df-quickchart {\n",
              "      --bg-color: #3B4455;\n",
              "      --fill-color: #D2E3FC;\n",
              "      --hover-bg-color: #434B5C;\n",
              "      --hover-fill-color: #FFFFFF;\n",
              "      --disabled-bg-color: #3B4455;\n",
              "      --disabled-fill-color: #666;\n",
              "  }\n",
              "\n",
              "  .colab-df-quickchart {\n",
              "    background-color: var(--bg-color);\n",
              "    border: none;\n",
              "    border-radius: 50%;\n",
              "    cursor: pointer;\n",
              "    display: none;\n",
              "    fill: var(--fill-color);\n",
              "    height: 32px;\n",
              "    padding: 0;\n",
              "    width: 32px;\n",
              "  }\n",
              "\n",
              "  .colab-df-quickchart:hover {\n",
              "    background-color: var(--hover-bg-color);\n",
              "    box-shadow: 0 1px 2px rgba(60, 64, 67, 0.3), 0 1px 3px 1px rgba(60, 64, 67, 0.15);\n",
              "    fill: var(--button-hover-fill-color);\n",
              "  }\n",
              "\n",
              "  .colab-df-quickchart-complete:disabled,\n",
              "  .colab-df-quickchart-complete:disabled:hover {\n",
              "    background-color: var(--disabled-bg-color);\n",
              "    fill: var(--disabled-fill-color);\n",
              "    box-shadow: none;\n",
              "  }\n",
              "\n",
              "  .colab-df-spinner {\n",
              "    border: 2px solid var(--fill-color);\n",
              "    border-color: transparent;\n",
              "    border-bottom-color: var(--fill-color);\n",
              "    animation:\n",
              "      spin 1s steps(1) infinite;\n",
              "  }\n",
              "\n",
              "  @keyframes spin {\n",
              "    0% {\n",
              "      border-color: transparent;\n",
              "      border-bottom-color: var(--fill-color);\n",
              "      border-left-color: var(--fill-color);\n",
              "    }\n",
              "    20% {\n",
              "      border-color: transparent;\n",
              "      border-left-color: var(--fill-color);\n",
              "      border-top-color: var(--fill-color);\n",
              "    }\n",
              "    30% {\n",
              "      border-color: transparent;\n",
              "      border-left-color: var(--fill-color);\n",
              "      border-top-color: var(--fill-color);\n",
              "      border-right-color: var(--fill-color);\n",
              "    }\n",
              "    40% {\n",
              "      border-color: transparent;\n",
              "      border-right-color: var(--fill-color);\n",
              "      border-top-color: var(--fill-color);\n",
              "    }\n",
              "    60% {\n",
              "      border-color: transparent;\n",
              "      border-right-color: var(--fill-color);\n",
              "    }\n",
              "    80% {\n",
              "      border-color: transparent;\n",
              "      border-right-color: var(--fill-color);\n",
              "      border-bottom-color: var(--fill-color);\n",
              "    }\n",
              "    90% {\n",
              "      border-color: transparent;\n",
              "      border-bottom-color: var(--fill-color);\n",
              "    }\n",
              "  }\n",
              "</style>\n",
              "\n",
              "  <script>\n",
              "    async function quickchart(key) {\n",
              "      const quickchartButtonEl =\n",
              "        document.querySelector('#' + key + ' button');\n",
              "      quickchartButtonEl.disabled = true;  // To prevent multiple clicks.\n",
              "      quickchartButtonEl.classList.add('colab-df-spinner');\n",
              "      try {\n",
              "        const charts = await google.colab.kernel.invokeFunction(\n",
              "            'suggestCharts', [key], {});\n",
              "      } catch (error) {\n",
              "        console.error('Error during call to suggestCharts:', error);\n",
              "      }\n",
              "      quickchartButtonEl.classList.remove('colab-df-spinner');\n",
              "      quickchartButtonEl.classList.add('colab-df-quickchart-complete');\n",
              "    }\n",
              "    (() => {\n",
              "      let quickchartButtonEl =\n",
              "        document.querySelector('#df-8bf1ebc7-45df-45b9-8550-72755279c414 button');\n",
              "      quickchartButtonEl.style.display =\n",
              "        google.colab.kernel.accessAllowed ? 'block' : 'none';\n",
              "    })();\n",
              "  </script>\n",
              "</div>\n",
              "    </div>\n",
              "  </div>\n"
            ],
            "text/plain": [
              "   Category                                            Message\n",
              "0         0  Go until jurong point, crazy.. Available only ...\n",
              "1         0                      Ok lar... Joking wif u oni...\n",
              "2         1  Free entry in 2 a wkly comp to win FA Cup fina...\n",
              "3         0  U dun say so early hor... U c already then say...\n",
              "4         0  Nah I don't think he goes to usf, he lives aro..."
            ]
          },
          "execution_count": 6,
          "metadata": {},
          "output_type": "execute_result"
        }
      ],
      "source": [
        "df = pd.read_csv('/content/spam.csv')\n",
        "df.head()"
      ]
    },
    {
      "cell_type": "code",
      "execution_count": null,
      "metadata": {
        "id": "djejKGEJwcQm"
      },
      "outputs": [],
      "source": [
        "sentences = df['Message'].tolist()\n",
        "labels = df['Category'].tolist()"
      ]
    },
    {
      "cell_type": "code",
      "execution_count": null,
      "metadata": {
        "id": "5UcB4yOvwd9Z"
      },
      "outputs": [],
      "source": [
        "train_size = int(len(sentences) * 0.9)"
      ]
    },
    {
      "cell_type": "code",
      "execution_count": null,
      "metadata": {
        "id": "wI6l6J-hweyx"
      },
      "outputs": [],
      "source": [
        "training_sentences = sentences[0:train_size]\n",
        "testing_sentences = sentences[train_size:]\n",
        "training_labels = labels[0:train_size]\n",
        "testing_labels = labels[train_size:]"
      ]
    },
    {
      "cell_type": "code",
      "execution_count": null,
      "metadata": {
        "id": "8fN_ss7IwfxM"
      },
      "outputs": [],
      "source": [
        "import numpy as np\n",
        "training_labels_final = np.array(training_labels)\n",
        "testing_labels_final = np.array(testing_labels)"
      ]
    },
    {
      "cell_type": "code",
      "execution_count": null,
      "metadata": {
        "id": "bA2kSXHK2V5n"
      },
      "outputs": [],
      "source": [
        "import os\n",
        "embedding_index = {}\n",
        "embedding_dim = 100\n",
        "f = open(os.path.join('/content/glove.6B.100d.txt'), encoding = \"utf-8\")\n",
        "for line in f:\n",
        "    values = line.split()\n",
        "    word = values[0]\n",
        "    coeff = np.asarray(values[1:], dtype='float32')\n",
        "    embedding_index[word] = coeff\n",
        "f.close()"
      ]
    },
    {
      "cell_type": "code",
      "execution_count": null,
      "metadata": {
        "id": "Cl7vbF5k2ZRM"
      },
      "outputs": [],
      "source": [
        "tokenizer = Tokenizer()\n",
        "tokenizer.fit_on_texts(training_sentences)\n",
        "word_index = tokenizer.word_index\n",
        "sequences = tokenizer.texts_to_sequences(training_sentences)\n",
        "X_train = pad_sequences(sequences, maxlen = 100)\n",
        "test_sequences = tokenizer.texts_to_sequences(testing_sentences)\n",
        "X_test = pad_sequences(test_sequences, maxlen = 100)"
      ]
    },
    {
      "cell_type": "code",
      "execution_count": null,
      "metadata": {
        "id": "WoK-k4Vo2da7"
      },
      "outputs": [],
      "source": [
        "embedding_matrix = np.zeros((len(word_index) + 1, embedding_dim))\n",
        "for word, i in word_index.items():\n",
        "    embedding_vector = embedding_index.get(word)\n",
        "    if embedding_vector is not None:\n",
        "        embedding_matrix[i] = embedding_vector"
      ]
    },
    {
      "cell_type": "code",
      "execution_count": null,
      "metadata": {
        "id": "OJPAcJtS2jgf"
      },
      "outputs": [],
      "source": [
        "from tensorflow.keras.models import Sequential\n",
        "from tensorflow.keras.layers import Dense, LSTM, Embedding, Bidirectional"
      ]
    },
    {
      "cell_type": "code",
      "execution_count": null,
      "metadata": {
        "id": "ozTLQUKR2fCB"
      },
      "outputs": [],
      "source": [
        "embedding_layer = Embedding(len(word_index) + 1,\n",
        "                            embedding_dim,\n",
        "                            weights=[embedding_matrix],\n",
        "                            input_length=100,\n",
        "                            trainable=False)"
      ]
    },
    {
      "cell_type": "code",
      "execution_count": null,
      "metadata": {
        "colab": {
          "base_uri": "https://localhost:8080/"
        },
        "id": "kUEkWSzJ2mVr",
        "outputId": "1b23adb4-8838-40d6-9aa5-6f173dc54dca"
      },
      "outputs": [
        {
          "name": "stderr",
          "output_type": "stream",
          "text": [
            "WARNING:tensorflow:Layer lstm will not use cuDNN kernels since it doesn't meet the criteria. It will use a generic GPU kernel as fallback when running on GPU.\n",
            "WARNING:tensorflow:Layer lstm will not use cuDNN kernels since it doesn't meet the criteria. It will use a generic GPU kernel as fallback when running on GPU.\n",
            "WARNING:tensorflow:Layer lstm will not use cuDNN kernels since it doesn't meet the criteria. It will use a generic GPU kernel as fallback when running on GPU.\n"
          ]
        },
        {
          "name": "stdout",
          "output_type": "stream",
          "text": [
            "Model: \"sequential\"\n",
            "_________________________________________________________________\n",
            " Layer (type)                Output Shape              Param #   \n",
            "=================================================================\n",
            " embedding (Embedding)       (None, 100, 100)          855100    \n",
            "                                                                 \n",
            " bidirectional (Bidirection  (None, 40)                19360     \n",
            " al)                                                             \n",
            "                                                                 \n",
            " dense (Dense)               (None, 1)                 41        \n",
            "                                                                 \n",
            "=================================================================\n",
            "Total params: 874501 (3.34 MB)\n",
            "Trainable params: 19401 (75.79 KB)\n",
            "Non-trainable params: 855100 (3.26 MB)\n",
            "_________________________________________________________________\n"
          ]
        }
      ],
      "source": [
        "model = Sequential()\n",
        "model.add(embedding_layer)\n",
        "model.add(Bidirectional(LSTM(units=20,  dropout=0.2, recurrent_dropout=0.25)))\n",
        "model.add(Dense(1, activation='sigmoid'))\n",
        "model.compile(loss='binary_crossentropy', optimizer='adam', metrics=['accuracy'])\n",
        "model.summary()"
      ]
    },
    {
      "cell_type": "code",
      "execution_count": null,
      "metadata": {
        "colab": {
          "base_uri": "https://localhost:8080/"
        },
        "id": "W9MihK3E2pcv",
        "outputId": "ad832cfa-bdf0-4bb8-d237-1920a1cf8b7d"
      },
      "outputs": [
        {
          "name": "stdout",
          "output_type": "stream",
          "text": [
            "Epoch 1/30\n",
            "157/157 [==============================] - 121s 692ms/step - loss: 0.2580 - accuracy: 0.9027 - val_loss: 0.1120 - val_accuracy: 0.9624\n",
            "Epoch 2/30\n",
            "157/157 [==============================] - 115s 731ms/step - loss: 0.1048 - accuracy: 0.9667 - val_loss: 0.0764 - val_accuracy: 0.9731\n",
            "Epoch 3/30\n",
            "157/157 [==============================] - 107s 681ms/step - loss: 0.0832 - accuracy: 0.9747 - val_loss: 0.0773 - val_accuracy: 0.9713\n",
            "Epoch 4/30\n",
            "157/157 [==============================] - 117s 744ms/step - loss: 0.0739 - accuracy: 0.9759 - val_loss: 0.0628 - val_accuracy: 0.9803\n",
            "Epoch 5/30\n",
            "157/157 [==============================] - 108s 688ms/step - loss: 0.0635 - accuracy: 0.9809 - val_loss: 0.0587 - val_accuracy: 0.9785\n",
            "Epoch 6/30\n",
            "157/157 [==============================] - 116s 737ms/step - loss: 0.0547 - accuracy: 0.9846 - val_loss: 0.0516 - val_accuracy: 0.9803\n",
            "Epoch 7/30\n",
            "157/157 [==============================] - 110s 702ms/step - loss: 0.0519 - accuracy: 0.9817 - val_loss: 0.0482 - val_accuracy: 0.9839\n",
            "Epoch 8/30\n",
            "157/157 [==============================] - 113s 719ms/step - loss: 0.0456 - accuracy: 0.9870 - val_loss: 0.0492 - val_accuracy: 0.9785\n",
            "Epoch 9/30\n",
            "157/157 [==============================] - 111s 708ms/step - loss: 0.0462 - accuracy: 0.9848 - val_loss: 0.0505 - val_accuracy: 0.9803\n",
            "Epoch 10/30\n",
            "157/157 [==============================] - 114s 724ms/step - loss: 0.0394 - accuracy: 0.9868 - val_loss: 0.0401 - val_accuracy: 0.9857\n",
            "Epoch 11/30\n",
            "157/157 [==============================] - 111s 712ms/step - loss: 0.0349 - accuracy: 0.9880 - val_loss: 0.0501 - val_accuracy: 0.9821\n",
            "Epoch 12/30\n",
            "157/157 [==============================] - 115s 727ms/step - loss: 0.0329 - accuracy: 0.9902 - val_loss: 0.0378 - val_accuracy: 0.9857\n",
            "Epoch 13/30\n",
            "157/157 [==============================] - 116s 743ms/step - loss: 0.0336 - accuracy: 0.9892 - val_loss: 0.0401 - val_accuracy: 0.9892\n",
            "Epoch 14/30\n",
            "157/157 [==============================] - 109s 695ms/step - loss: 0.0290 - accuracy: 0.9920 - val_loss: 0.0388 - val_accuracy: 0.9857\n",
            "Epoch 15/30\n",
            "157/157 [==============================] - 115s 735ms/step - loss: 0.0293 - accuracy: 0.9914 - val_loss: 0.0437 - val_accuracy: 0.9821\n",
            "Epoch 16/30\n",
            "157/157 [==============================] - 107s 680ms/step - loss: 0.0274 - accuracy: 0.9916 - val_loss: 0.0443 - val_accuracy: 0.9857\n",
            "Epoch 17/30\n",
            "157/157 [==============================] - 117s 744ms/step - loss: 0.0242 - accuracy: 0.9932 - val_loss: 0.0391 - val_accuracy: 0.9875\n",
            "Epoch 18/30\n",
            "157/157 [==============================] - 111s 705ms/step - loss: 0.0231 - accuracy: 0.9926 - val_loss: 0.0432 - val_accuracy: 0.9839\n",
            "Epoch 19/30\n",
            "157/157 [==============================] - 115s 731ms/step - loss: 0.0240 - accuracy: 0.9928 - val_loss: 0.0468 - val_accuracy: 0.9821\n",
            "Epoch 20/30\n",
            "157/157 [==============================] - 124s 794ms/step - loss: 0.0201 - accuracy: 0.9938 - val_loss: 0.0425 - val_accuracy: 0.9839\n",
            "Epoch 21/30\n",
            "157/157 [==============================] - 108s 688ms/step - loss: 0.0192 - accuracy: 0.9944 - val_loss: 0.0405 - val_accuracy: 0.9821\n",
            "Epoch 22/30\n",
            "157/157 [==============================] - 116s 740ms/step - loss: 0.0170 - accuracy: 0.9952 - val_loss: 0.0410 - val_accuracy: 0.9857\n",
            "Epoch 23/30\n",
            "157/157 [==============================] - 114s 728ms/step - loss: 0.0168 - accuracy: 0.9962 - val_loss: 0.0559 - val_accuracy: 0.9821\n",
            "Epoch 24/30\n",
            "157/157 [==============================] - 114s 729ms/step - loss: 0.0142 - accuracy: 0.9962 - val_loss: 0.0378 - val_accuracy: 0.9875\n",
            "Epoch 25/30\n",
            "157/157 [==============================] - 114s 729ms/step - loss: 0.0163 - accuracy: 0.9960 - val_loss: 0.0592 - val_accuracy: 0.9821\n",
            "Epoch 26/30\n",
            "157/157 [==============================] - 114s 730ms/step - loss: 0.0144 - accuracy: 0.9960 - val_loss: 0.0519 - val_accuracy: 0.9803\n",
            "Epoch 27/30\n",
            "157/157 [==============================] - 115s 732ms/step - loss: 0.0117 - accuracy: 0.9966 - val_loss: 0.0751 - val_accuracy: 0.9803\n",
            "Epoch 28/30\n",
            "157/157 [==============================] - 115s 731ms/step - loss: 0.0131 - accuracy: 0.9964 - val_loss: 0.0427 - val_accuracy: 0.9857\n",
            "Epoch 29/30\n",
            "157/157 [==============================] - 111s 711ms/step - loss: 0.0126 - accuracy: 0.9966 - val_loss: 0.0400 - val_accuracy: 0.9857\n",
            "Epoch 30/30\n",
            "157/157 [==============================] - 118s 749ms/step - loss: 0.0120 - accuracy: 0.9966 - val_loss: 0.0417 - val_accuracy: 0.9857\n"
          ]
        }
      ],
      "source": [
        "history=model.fit(X_train, training_labels_final, epochs=30, validation_data=(X_test, testing_labels_final))"
      ]
    },
    {
      "cell_type": "code",
      "execution_count": null,
      "metadata": {
        "colab": {
          "base_uri": "https://localhost:8080/",
          "height": 472
        },
        "id": "rwby-UXrw493",
        "outputId": "d8d9e2a3-e807-4c66-a5ad-2a6f304fb185"
      },
      "outputs": [
        {
          "data": {
            "image/png": "[encoded data removed]",
            "text/plain": [
              "<Figure size 640x480 with 1 Axes>"
            ]
          },
          "metadata": {},
          "output_type": "display_data"
        }
      ],
      "source": [
        "import matplotlib.pyplot as plt\n",
        "plt.plot(history.history['loss'])\n",
        "plt.plot(history.history['val_loss'])\n",
        "plt.title('model loss')\n",
        "plt.ylabel('loss')\n",
        "plt.xlabel('epoch')\n",
        "plt.legend(['train', 'val'], loc='upper left')\n",
        "plt.show()"
      ]
    },
    {
      "cell_type": "code",
      "execution_count": null,
      "metadata": {
        "colab": {
          "base_uri": "https://localhost:8080/"
        },
        "id": "UrtD0EnqxDj9",
        "outputId": "7ef6381b-a293-45ff-b64b-086e228790f0"
      },
      "outputs": [
        {
          "name": "stdout",
          "output_type": "stream",
          "text": [
            "(8551, 100)\n"
          ]
        }
      ],
      "source": [
        "e = model.layers[0]\n",
        "weights = e.get_weights()[0]\n",
        "print(weights.shape)"
      ]
    },
    {
      "cell_type": "code",
      "execution_count": null,
      "metadata": {
        "id": "KP8uAGAixEwl"
      },
      "outputs": [],
      "source": [
        "text_messages = ['Call me back once you get this?',\n",
        "                'Congrats on your new offers! Click here to claim your prize...',\n",
        "                'Really like that new photo of you',\n",
        "                'Did you hear the news today? Total fiasco',\n",
        "                'Attend this data science meet...',\n",
        "                'Are you coming to the party tonight?',\n",
        "                'Your items have gone missing, let me know if you find them',\n",
        "                'Do not forget to bring your friends!',\n",
        "                'You have won a million dollars! Fill out your bank details here...',\n",
        "                'Looking forward to seeing you again']"
      ]
    },
    {
      "cell_type": "code",
      "execution_count": null,
      "metadata": {
        "colab": {
          "base_uri": "https://localhost:8080/"
        },
        "id": "2VgN7MNrxF2d",
        "outputId": "4639b3a0-9824-46bc-d3c8-0658eb9be890"
      },
      "outputs": [
        {
          "name": "stdout",
          "output_type": "stream",
          "text": [
            "1/1 [==============================] - 2s 2s/step\n"
          ]
        }
      ],
      "source": [
        "padding_type='post'\n",
        "sample_sequences = tokenizer.texts_to_sequences(text_messages)\n",
        "fakes_padded = pad_sequences(sample_sequences, padding=padding_type, maxlen=100)\n",
        "classes = model.predict(fakes_padded)"
      ]
    },
    {
      "cell_type": "code",
      "execution_count": null,
      "metadata": {
        "colab": {
          "base_uri": "https://localhost:8080/"
        },
        "id": "sCQpRlrZxGyt",
        "outputId": "e745b9ea-5719-49cf-de22-c7e17409780b"
      },
      "outputs": [
        {
          "name": "stdout",
          "output_type": "stream",
          "text": [
            "Call me back once you get this?\n",
            "[0.06883655]\n",
            "\n",
            "\n",
            "Congrats on your new offers! Click here to claim your prize...\n",
            "[0.0829862]\n",
            "\n",
            "\n",
            "Really like that new photo of you\n",
            "[0.07231659]\n",
            "\n",
            "\n",
            "Did you hear the news today? Total fiasco\n",
            "[0.07307637]\n",
            "\n",
            "\n",
            "Attend this data science meet...\n",
            "[0.08396259]\n",
            "\n",
            "\n",
            "Are you coming to the party tonight?\n",
            "[0.08805536]\n",
            "\n",
            "\n",
            "Your items have gone missing, let me know if you find them\n",
            "[0.08327076]\n",
            "\n",
            "\n",
            "Do not forget to bring your friends!\n",
            "[0.08548187]\n",
            "\n",
            "\n",
            "You have won a million dollars! Fill out your bank details here...\n",
            "[0.08244003]\n",
            "\n",
            "\n",
            "Looking forward to seeing you again\n",
            "[0.06792433]\n",
            "\n",
            "\n"
          ]
        }
      ],
      "source": [
        "for x in range(len(text_messages)):\n",
        "    print(text_messages[x])\n",
        "    print(classes[x])\n",
        "    print('\\n')"
      ]
    },
    {
      "cell_type": "code",
      "execution_count": null,
      "metadata": {
        "id": "vRv9BimRxHuE"
      },
      "outputs": [],
      "source": []
    }
  ],
  "metadata": {
    "accelerator": "GPU",
    "colab": {
      "gpuType": "T4",
      "provenance": []
    },
    "kernelspec": {
      "display_name": "Python 3",
      "name": "python3"
    },
    "language_info": {
      "name": "python"
    }
  },
  "nbformat": 4,
  "nbformat_minor": 0
}
