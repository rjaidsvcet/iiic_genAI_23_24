{
 "cells": [
  {
   "cell_type": "code",
   "execution_count": 1,
   "id": "divided-soviet",
   "metadata": {},
   "outputs": [],
   "source": [
    "article = '''The biggest known star in our universe is Stephenson 2-18. It is a type of “Red Supergiant Star” and these types of stars are the largest stars in the universe according to volume. \n",
    "Stephenson 2-18 Star located in a cluster of stars “Stephenson 2” that exist in the constellation of Scutum. \n",
    "The estimated distance of Stephenson 2-18 star is around 19000 light-years away from the Earth. That is equal to almost 6,000 parsecs.\n",
    "Stephenson 2-18 star is so big that 10 billion Sun size star can enter inside of it. \n",
    "The luminosity of the biggest star Stephenson 2-18 could be around 440,000 times of sun’s luminosity. Whereas the usual luminosity of any red supergiant star is around 30,000 to 50,000 times the sun’s luminosity. So this is totally unusual for this largest star. And for this unusual property, it exists at the top right corner of the Hertzsprung–Russell diagram for its M6 spectral type.'''"
   ]
  },
  {
   "cell_type": "code",
   "execution_count": 2,
   "id": "painful-scholarship",
   "metadata": {},
   "outputs": [
    {
     "data": {
      "text/plain": [
       "'The biggest known star in our universe is Stephenson 2-18. It is a type of “Red Supergiant Star” and these types of stars are the largest stars in the universe according to volume. \\nStephenson 2-18 Star located in a cluster of stars “Stephenson 2” that exist in the constellation of Scutum. \\nThe estimated distance of Stephenson 2-18 star is around 19000 light-years away from the Earth. That is equal to almost 6,000 parsecs.\\nStephenson 2-18 star is so big that 10 billion Sun size star can enter inside of it. \\nThe luminosity of the biggest star Stephenson 2-18 could be around 440,000 times of sun’s luminosity. Whereas the usual luminosity of any red supergiant star is around 30,000 to 50,000 times the sun’s luminosity. So this is totally unusual for this largest star. And for this unusual property, it exists at the top right corner of the Hertzsprung–Russell diagram for its M6 spectral type.'"
      ]
     },
     "execution_count": 2,
     "metadata": {},
     "output_type": "execute_result"
    }
   ],
   "source": [
    "article"
   ]
  },
  {
   "cell_type": "markdown",
   "id": "circular-disaster",
   "metadata": {},
   "source": [
    "Preprocessing of text is required. We will convert article in sentences, stop unecessary words and lemmatize them."
   ]
  },
  {
   "cell_type": "code",
   "execution_count": 3,
   "id": "sudden-nation",
   "metadata": {},
   "outputs": [],
   "source": [
    "import re\n",
    "from nltk import sent_tokenize\n",
    "from nltk.corpus import stopwords\n",
    "from nltk.stem import WordNetLemmatizer"
   ]
  },
  {
   "cell_type": "markdown",
   "id": "informative-discretion",
   "metadata": {},
   "source": [
    "Initialization of the Lemmatizer"
   ]
  },
  {
   "cell_type": "code",
   "execution_count": 4,
   "id": "equal-audit",
   "metadata": {},
   "outputs": [],
   "source": [
    "wordnet = WordNetLemmatizer()"
   ]
  },
  {
   "cell_type": "markdown",
   "id": "directed-failure",
   "metadata": {},
   "source": [
    "Convert entire article into sentences first."
   ]
  },
  {
   "cell_type": "code",
   "execution_count": 5,
   "id": "frozen-literature",
   "metadata": {},
   "outputs": [],
   "source": [
    "sentences = sent_tokenize(article)"
   ]
  },
  {
   "cell_type": "code",
   "execution_count": 6,
   "id": "finite-vintage",
   "metadata": {},
   "outputs": [
    {
     "data": {
      "text/plain": [
       "['The biggest known star in our universe is Stephenson 2-18.',\n",
       " 'It is a type of “Red Supergiant Star” and these types of stars are the largest stars in the universe according to volume.',\n",
       " 'Stephenson 2-18 Star located in a cluster of stars “Stephenson 2” that exist in the constellation of Scutum.',\n",
       " 'The estimated distance of Stephenson 2-18 star is around 19000 light-years away from the Earth.',\n",
       " 'That is equal to almost 6,000 parsecs.',\n",
       " 'Stephenson 2-18 star is so big that 10 billion Sun size star can enter inside of it.',\n",
       " 'The luminosity of the biggest star Stephenson 2-18 could be around 440,000 times of sun’s luminosity.',\n",
       " 'Whereas the usual luminosity of any red supergiant star is around 30,000 to 50,000 times the sun’s luminosity.',\n",
       " 'So this is totally unusual for this largest star.',\n",
       " 'And for this unusual property, it exists at the top right corner of the Hertzsprung–Russell diagram for its M6 spectral type.']"
      ]
     },
     "execution_count": 6,
     "metadata": {},
     "output_type": "execute_result"
    }
   ],
   "source": [
    "sentences"
   ]
  },
  {
   "cell_type": "markdown",
   "id": "common-latitude",
   "metadata": {},
   "source": [
    "Create an empty list to hold the preprocessed text."
   ]
  },
  {
   "cell_type": "code",
   "execution_count": 6,
   "id": "double-attachment",
   "metadata": {},
   "outputs": [],
   "source": [
    "lemmatized_holder = []"
   ]
  },
  {
   "cell_type": "markdown",
   "id": "fatal-broad",
   "metadata": {},
   "source": [
    "Preprocess the article using iterative procedure."
   ]
  },
  {
   "cell_type": "code",
   "execution_count": 7,
   "id": "desperate-origin",
   "metadata": {},
   "outputs": [],
   "source": [
    "for i in range(len(sentences)):\n",
    "    keeping_important_stuff = re.sub('[^a-zA-Z0-9]', ' ', sentences[i])\n",
    "    lowercasing = keeping_important_stuff.lower()\n",
    "    splitting = lowercasing.split()\n",
    "    lemmatization = [wordnet.lemmatize(w) for w in splitting if not w in set(stopwords.words('english'))]\n",
    "    joining = ' '.join(lemmatization)\n",
    "    lemmatized_holder.append(joining)"
   ]
  },
  {
   "cell_type": "code",
   "execution_count": 8,
   "id": "bizarre-purse",
   "metadata": {},
   "outputs": [
    {
     "data": {
      "text/plain": [
       "['biggest known star universe stephenson 2 18',\n",
       " 'type red supergiant star type star largest star universe according volume',\n",
       " 'stephenson 2 18 star located cluster star stephenson 2 exist constellation scutum',\n",
       " 'estimated distance stephenson 2 18 star around 19000 light year away earth',\n",
       " 'equal almost 6 000 parsec',\n",
       " 'stephenson 2 18 star big 10 billion sun size star enter inside',\n",
       " 'luminosity biggest star stephenson 2 18 could around 440 000 time sun luminosity',\n",
       " 'whereas usual luminosity red supergiant star around 30 000 50 000 time sun luminosity',\n",
       " 'totally unusual largest star',\n",
       " 'unusual property exists top right corner hertzsprung russell diagram m6 spectral type']"
      ]
     },
     "execution_count": 8,
     "metadata": {},
     "output_type": "execute_result"
    }
   ],
   "source": [
    "lemmatized_holder"
   ]
  },
  {
   "cell_type": "markdown",
   "id": "accessible-lucas",
   "metadata": {},
   "source": [
    "**Bag of Words**"
   ]
  },
  {
   "cell_type": "markdown",
   "id": "difficult-baghdad",
   "metadata": {},
   "source": [
    "The bag-of-words model is a simplifying representation used in natural language processing and information retrieval. In this model, a text is represented as the bag of its words, disregarding grammar and even word order but keeping multiplicity. The bag-of-words model has also been used for computer vision. <a href=\"https://en.wikipedia.org/wiki/Bag-of-words_model\">Wikipedia</a>."
   ]
  },
  {
   "cell_type": "code",
   "execution_count": 9,
   "id": "unlikely-family",
   "metadata": {},
   "outputs": [],
   "source": [
    "from sklearn.feature_extraction.text import CountVectorizer\n",
    "bow = CountVectorizer(max_features = 2000)"
   ]
  },
  {
   "cell_type": "code",
   "execution_count": 10,
   "id": "charitable-pledge",
   "metadata": {},
   "outputs": [],
   "source": [
    "X_data = bow.fit_transform(lemmatized_holder).toarray()"
   ]
  },
  {
   "cell_type": "code",
   "execution_count": 11,
   "id": "periodic-billy",
   "metadata": {},
   "outputs": [
    {
     "data": {
      "text/plain": [
       "array([[0, 0, 1, 0, 0, 0, 0, 0, 0, 0, 0, 0, 1, 0, 0, 0, 0, 0, 0, 0, 0, 0,\n",
       "        0, 0, 0, 0, 0, 0, 1, 0, 0, 0, 0, 0, 0, 0, 0, 0, 0, 0, 0, 0, 1, 1,\n",
       "        0, 0, 0, 0, 0, 0, 1, 0, 0, 0, 0, 0],\n",
       "       [0, 0, 0, 0, 0, 0, 0, 1, 0, 0, 0, 0, 0, 0, 0, 0, 0, 0, 0, 0, 0, 0,\n",
       "        0, 0, 0, 0, 0, 0, 0, 1, 0, 0, 0, 0, 0, 0, 1, 0, 0, 0, 0, 0, 3, 0,\n",
       "        0, 1, 0, 0, 0, 2, 1, 0, 0, 1, 0, 0],\n",
       "       [0, 0, 1, 0, 0, 0, 0, 0, 0, 0, 0, 0, 0, 0, 1, 1, 0, 0, 0, 0, 0, 0,\n",
       "        0, 0, 1, 0, 0, 0, 0, 0, 0, 1, 0, 0, 0, 0, 0, 0, 0, 1, 0, 0, 2, 2,\n",
       "        0, 0, 0, 0, 0, 0, 0, 0, 0, 0, 0, 0],\n",
       "       [0, 0, 1, 1, 0, 0, 0, 0, 0, 1, 1, 0, 0, 0, 0, 0, 0, 0, 0, 1, 1, 0,\n",
       "        0, 1, 0, 0, 0, 0, 0, 0, 1, 0, 0, 0, 0, 0, 0, 0, 0, 0, 0, 0, 1, 1,\n",
       "        0, 0, 0, 0, 0, 0, 0, 0, 0, 0, 0, 1],\n",
       "       [1, 0, 0, 0, 0, 0, 0, 0, 1, 0, 0, 0, 0, 0, 0, 0, 0, 0, 0, 0, 0, 0,\n",
       "        1, 0, 0, 0, 0, 0, 0, 0, 0, 0, 0, 0, 1, 0, 0, 0, 0, 0, 0, 0, 0, 0,\n",
       "        0, 0, 0, 0, 0, 0, 0, 0, 0, 0, 0, 0],\n",
       "       [0, 1, 1, 0, 0, 0, 0, 0, 0, 0, 0, 1, 0, 1, 0, 0, 0, 0, 0, 0, 0, 1,\n",
       "        0, 0, 0, 0, 0, 1, 0, 0, 0, 0, 0, 0, 0, 0, 0, 0, 0, 0, 1, 0, 2, 1,\n",
       "        1, 0, 0, 0, 0, 0, 0, 0, 0, 0, 0, 0],\n",
       "       [1, 0, 1, 0, 0, 1, 0, 0, 0, 1, 0, 0, 1, 0, 0, 0, 0, 1, 0, 0, 0, 0,\n",
       "        0, 0, 0, 0, 0, 0, 0, 0, 0, 0, 2, 0, 0, 0, 0, 0, 0, 0, 0, 0, 1, 1,\n",
       "        1, 0, 1, 0, 0, 0, 0, 0, 0, 0, 0, 0],\n",
       "       [2, 0, 0, 0, 1, 0, 1, 0, 0, 1, 0, 0, 0, 0, 0, 0, 0, 0, 0, 0, 0, 0,\n",
       "        0, 0, 0, 0, 0, 0, 0, 0, 0, 0, 2, 0, 0, 0, 1, 0, 0, 0, 0, 0, 1, 0,\n",
       "        1, 1, 1, 0, 0, 0, 0, 0, 1, 0, 1, 0],\n",
       "       [0, 0, 0, 0, 0, 0, 0, 0, 0, 0, 0, 0, 0, 0, 0, 0, 0, 0, 0, 0, 0, 0,\n",
       "        0, 0, 0, 0, 0, 0, 0, 1, 0, 0, 0, 0, 0, 0, 0, 0, 0, 0, 0, 0, 1, 0,\n",
       "        0, 0, 0, 0, 1, 0, 0, 1, 0, 0, 0, 0],\n",
       "       [0, 0, 0, 0, 0, 0, 0, 0, 0, 0, 0, 0, 0, 0, 0, 0, 1, 0, 1, 0, 0, 0,\n",
       "        0, 0, 0, 1, 1, 0, 0, 0, 0, 0, 0, 1, 0, 1, 0, 1, 1, 0, 0, 1, 0, 0,\n",
       "        0, 0, 0, 1, 0, 1, 0, 1, 0, 0, 0, 0]], dtype=int64)"
      ]
     },
     "execution_count": 11,
     "metadata": {},
     "output_type": "execute_result"
    }
   ],
   "source": [
    "X_data"
   ]
  },
  {
   "cell_type": "code",
   "execution_count": null,
   "id": "dirty-genome",
   "metadata": {},
   "outputs": [],
   "source": []
  }
 ],
 "metadata": {
  "kernelspec": {
   "display_name": "Python 3",
   "language": "python",
   "name": "python3"
  },
  "language_info": {
   "codemirror_mode": {
    "name": "ipython",
    "version": 3
   },
   "file_extension": ".py",
   "mimetype": "text/x-python",
   "name": "python",
   "nbconvert_exporter": "python",
   "pygments_lexer": "ipython3",
   "version": "3.11.5"
  }
 },
 "nbformat": 4,
 "nbformat_minor": 5
}
