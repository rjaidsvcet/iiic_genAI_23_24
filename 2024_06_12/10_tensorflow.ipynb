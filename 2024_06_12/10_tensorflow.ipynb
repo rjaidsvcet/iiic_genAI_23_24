{
  "cells": [
    {
      "cell_type": "code",
      "execution_count": 1,
      "metadata": {
        "colab": {
          "base_uri": "https://localhost:8080/"
        },
        "id": "-C8MczA9t4w1",
        "outputId": "81b3cb9d-1267-4e6a-9dc2-5444305553d8"
      },
      "outputs": [
        {
          "name": "stdout",
          "output_type": "stream",
          "text": [
            "--2024-06-10 15:22:17--  https://nlp.stanford.edu/data/glove.6B.zip\n",
            "Resolving nlp.stanford.edu (nlp.stanford.edu)... 171.64.67.140\n",
            "Connecting to nlp.stanford.edu (nlp.stanford.edu)|171.64.67.140|:443... connected.\n",
            "HTTP request sent, awaiting response... 301 Moved Permanently\n",
            "Location: https://downloads.cs.stanford.edu/nlp/data/glove.6B.zip [following]\n",
            "--2024-06-10 15:22:17--  https://downloads.cs.stanford.edu/nlp/data/glove.6B.zip\n",
            "Resolving downloads.cs.stanford.edu (downloads.cs.stanford.edu)... 171.64.64.22\n",
            "Connecting to downloads.cs.stanford.edu (downloads.cs.stanford.edu)|171.64.64.22|:443... connected.\n",
            "HTTP request sent, awaiting response... 200 OK\n",
            "Length: 862182613 (822M) [application/zip]\n",
            "Saving to: ‘glove.6B.zip’\n",
            "\n",
            "glove.6B.zip        100%[===================>] 822.24M  5.02MB/s    in 2m 39s  \n",
            "\n",
            "2024-06-10 15:24:57 (5.16 MB/s) - ‘glove.6B.zip’ saved [862182613/862182613]\n",
            "\n"
          ]
        }
      ],
      "source": [
        "!wget https://nlp.stanford.edu/data/glove.6B.zip"
      ]
    },
    {
      "cell_type": "code",
      "execution_count": 2,
      "metadata": {
        "colab": {
          "base_uri": "https://localhost:8080/"
        },
        "id": "02q6jopnvi2P",
        "outputId": "5e3e8dc6-8c01-4176-cf57-2b4a9419dea4"
      },
      "outputs": [
        {
          "name": "stdout",
          "output_type": "stream",
          "text": [
            "Archive:  /content/glove.6B.zip\n",
            "  inflating: glove.6B.50d.txt        \n",
            "  inflating: glove.6B.100d.txt       \n",
            "  inflating: glove.6B.200d.txt       \n",
            "  inflating: glove.6B.300d.txt       \n"
          ]
        }
      ],
      "source": [
        "!unzip /content/glove.6B.zip"
      ]
    },
    {
      "cell_type": "code",
      "execution_count": 3,
      "metadata": {
        "id": "RtNIgIZpwMjL"
      },
      "outputs": [],
      "source": [
        "import pandas as pd\n",
        "import tensorflow as tf\n",
        "from tensorflow.keras.preprocessing.text import Tokenizer\n",
        "from tensorflow.keras.preprocessing.sequence import pad_sequences"
      ]
    },
    {
      "cell_type": "code",
      "execution_count": 4,
      "metadata": {
        "colab": {
          "base_uri": "https://localhost:8080/",
          "height": 206
        },
        "id": "NRoAkIWnwU2c",
        "outputId": "ee2fefea-c338-4421-ea02-b59f4a8df82c"
      },
      "outputs": [
        {
          "data": {
            "application/vnd.google.colaboratory.intrinsic+json": {
              "summary": "{\n  \"name\": \"df\",\n  \"rows\": 5572,\n  \"fields\": [\n    {\n      \"column\": \"Category\",\n      \"properties\": {\n        \"dtype\": \"number\",\n        \"std\": 0,\n        \"min\": 0,\n        \"max\": 1,\n        \"num_unique_values\": 2,\n        \"samples\": [\n          1,\n          0\n        ],\n        \"semantic_type\": \"\",\n        \"description\": \"\"\n      }\n    },\n    {\n      \"column\": \"Message\",\n      \"properties\": {\n        \"dtype\": \"string\",\n        \"num_unique_values\": 5157,\n        \"samples\": [\n          \"Also sir, i sent you an email about how to log into the usc payment portal. I.ll send you another message that should explain how things are back home. Have a great weekend.\",\n          \"Are you free now?can i call now?\"\n        ],\n        \"semantic_type\": \"\",\n        \"description\": \"\"\n      }\n    }\n  ]\n}",
              "type": "dataframe",
              "variable_name": "df"
            },
            "text/html": [
              "\n",
              "  <div id=\"df-6412eeb6-4765-4914-bde7-3508562d4a1b\" class=\"colab-df-container\">\n",
              "    <div>\n",
              "<style scoped>\n",
              "    .dataframe tbody tr th:only-of-type {\n",
              "        vertical-align: middle;\n",
              "    }\n",
              "\n",
              "    .dataframe tbody tr th {\n",
              "        vertical-align: top;\n",
              "    }\n",
              "\n",
              "    .dataframe thead th {\n",
              "        text-align: right;\n",
              "    }\n",
              "</style>\n",
              "<table border=\"1\" class=\"dataframe\">\n",
              "  <thead>\n",
              "    <tr style=\"text-align: right;\">\n",
              "      <th></th>\n",
              "      <th>Category</th>\n",
              "      <th>Message</th>\n",
              "    </tr>\n",
              "  </thead>\n",
              "  <tbody>\n",
              "    <tr>\n",
              "      <th>0</th>\n",
              "      <td>0</td>\n",
              "      <td>Go until jurong point, crazy.. Available only ...</td>\n",
              "    </tr>\n",
              "    <tr>\n",
              "      <th>1</th>\n",
              "      <td>0</td>\n",
              "      <td>Ok lar... Joking wif u oni...</td>\n",
              "    </tr>\n",
              "    <tr>\n",
              "      <th>2</th>\n",
              "      <td>1</td>\n",
              "      <td>Free entry in 2 a wkly comp to win FA Cup fina...</td>\n",
              "    </tr>\n",
              "    <tr>\n",
              "      <th>3</th>\n",
              "      <td>0</td>\n",
              "      <td>U dun say so early hor... U c already then say...</td>\n",
              "    </tr>\n",
              "    <tr>\n",
              "      <th>4</th>\n",
              "      <td>0</td>\n",
              "      <td>Nah I don't think he goes to usf, he lives aro...</td>\n",
              "    </tr>\n",
              "  </tbody>\n",
              "</table>\n",
              "</div>\n",
              "    <div class=\"colab-df-buttons\">\n",
              "\n",
              "  <div class=\"colab-df-container\">\n",
              "    <button class=\"colab-df-convert\" onclick=\"convertToInteractive('df-6412eeb6-4765-4914-bde7-3508562d4a1b')\"\n",
              "            title=\"Convert this dataframe to an interactive table.\"\n",
              "            style=\"display:none;\">\n",
              "\n",
              "  <svg xmlns=\"http://www.w3.org/2000/svg\" height=\"24px\" viewBox=\"0 -960 960 960\">\n",
              "    <path d=\"M120-120v-720h720v720H120Zm60-500h600v-160H180v160Zm220 220h160v-160H400v160Zm0 220h160v-160H400v160ZM180-400h160v-160H180v160Zm440 0h160v-160H620v160ZM180-180h160v-160H180v160Zm440 0h160v-160H620v160Z\"/>\n",
              "  </svg>\n",
              "    </button>\n",
              "\n",
              "  <style>\n",
              "    .colab-df-container {\n",
              "      display:flex;\n",
              "      gap: 12px;\n",
              "    }\n",
              "\n",
              "    .colab-df-convert {\n",
              "      background-color: #E8F0FE;\n",
              "      border: none;\n",
              "      border-radius: 50%;\n",
              "      cursor: pointer;\n",
              "      display: none;\n",
              "      fill: #1967D2;\n",
              "      height: 32px;\n",
              "      padding: 0 0 0 0;\n",
              "      width: 32px;\n",
              "    }\n",
              "\n",
              "    .colab-df-convert:hover {\n",
              "      background-color: #E2EBFA;\n",
              "      box-shadow: 0px 1px 2px rgba(60, 64, 67, 0.3), 0px 1px 3px 1px rgba(60, 64, 67, 0.15);\n",
              "      fill: #174EA6;\n",
              "    }\n",
              "\n",
              "    .colab-df-buttons div {\n",
              "      margin-bottom: 4px;\n",
              "    }\n",
              "\n",
              "    [theme=dark] .colab-df-convert {\n",
              "      background-color: #3B4455;\n",
              "      fill: #D2E3FC;\n",
              "    }\n",
              "\n",
              "    [theme=dark] .colab-df-convert:hover {\n",
              "      background-color: #434B5C;\n",
              "      box-shadow: 0px 1px 3px 1px rgba(0, 0, 0, 0.15);\n",
              "      filter: drop-shadow(0px 1px 2px rgba(0, 0, 0, 0.3));\n",
              "      fill: #FFFFFF;\n",
              "    }\n",
              "  </style>\n",
              "\n",
              "    <script>\n",
              "      const buttonEl =\n",
              "        document.querySelector('#df-6412eeb6-4765-4914-bde7-3508562d4a1b button.colab-df-convert');\n",
              "      buttonEl.style.display =\n",
              "        google.colab.kernel.accessAllowed ? 'block' : 'none';\n",
              "\n",
              "      async function convertToInteractive(key) {\n",
              "        const element = document.querySelector('#df-6412eeb6-4765-4914-bde7-3508562d4a1b');\n",
              "        const dataTable =\n",
              "          await google.colab.kernel.invokeFunction('convertToInteractive',\n",
              "                                                    [key], {});\n",
              "        if (!dataTable) return;\n",
              "\n",
              "        const docLinkHtml = 'Like what you see? Visit the ' +\n",
              "          '<a target=\"_blank\" href=https://colab.research.google.com/notebooks/data_table.ipynb>data table notebook</a>'\n",
              "          + ' to learn more about interactive tables.';\n",
              "        element.innerHTML = '';\n",
              "        dataTable['output_type'] = 'display_data';\n",
              "        await google.colab.output.renderOutput(dataTable, element);\n",
              "        const docLink = document.createElement('div');\n",
              "        docLink.innerHTML = docLinkHtml;\n",
              "        element.appendChild(docLink);\n",
              "      }\n",
              "    </script>\n",
              "  </div>\n",
              "\n",
              "\n",
              "<div id=\"df-4d57698b-67fe-44c6-b7d3-523c88ab02cc\">\n",
              "  <button class=\"colab-df-quickchart\" onclick=\"quickchart('df-4d57698b-67fe-44c6-b7d3-523c88ab02cc')\"\n",
              "            title=\"Suggest charts\"\n",
              "            style=\"display:none;\">\n",
              "\n",
              "<svg xmlns=\"http://www.w3.org/2000/svg\" height=\"24px\"viewBox=\"0 0 24 24\"\n",
              "     width=\"24px\">\n",
              "    <g>\n",
              "        <path d=\"M19 3H5c-1.1 0-2 .9-2 2v14c0 1.1.9 2 2 2h14c1.1 0 2-.9 2-2V5c0-1.1-.9-2-2-2zM9 17H7v-7h2v7zm4 0h-2V7h2v10zm4 0h-2v-4h2v4z\"/>\n",
              "    </g>\n",
              "</svg>\n",
              "  </button>\n",
              "\n",
              "<style>\n",
              "  .colab-df-quickchart {\n",
              "      --bg-color: #E8F0FE;\n",
              "      --fill-color: #1967D2;\n",
              "      --hover-bg-color: #E2EBFA;\n",
              "      --hover-fill-color: #174EA6;\n",
              "      --disabled-fill-color: #AAA;\n",
              "      --disabled-bg-color: #DDD;\n",
              "  }\n",
              "\n",
              "  [theme=dark] .colab-df-quickchart {\n",
              "      --bg-color: #3B4455;\n",
              "      --fill-color: #D2E3FC;\n",
              "      --hover-bg-color: #434B5C;\n",
              "      --hover-fill-color: #FFFFFF;\n",
              "      --disabled-bg-color: #3B4455;\n",
              "      --disabled-fill-color: #666;\n",
              "  }\n",
              "\n",
              "  .colab-df-quickchart {\n",
              "    background-color: var(--bg-color);\n",
              "    border: none;\n",
              "    border-radius: 50%;\n",
              "    cursor: pointer;\n",
              "    display: none;\n",
              "    fill: var(--fill-color);\n",
              "    height: 32px;\n",
              "    padding: 0;\n",
              "    width: 32px;\n",
              "  }\n",
              "\n",
              "  .colab-df-quickchart:hover {\n",
              "    background-color: var(--hover-bg-color);\n",
              "    box-shadow: 0 1px 2px rgba(60, 64, 67, 0.3), 0 1px 3px 1px rgba(60, 64, 67, 0.15);\n",
              "    fill: var(--button-hover-fill-color);\n",
              "  }\n",
              "\n",
              "  .colab-df-quickchart-complete:disabled,\n",
              "  .colab-df-quickchart-complete:disabled:hover {\n",
              "    background-color: var(--disabled-bg-color);\n",
              "    fill: var(--disabled-fill-color);\n",
              "    box-shadow: none;\n",
              "  }\n",
              "\n",
              "  .colab-df-spinner {\n",
              "    border: 2px solid var(--fill-color);\n",
              "    border-color: transparent;\n",
              "    border-bottom-color: var(--fill-color);\n",
              "    animation:\n",
              "      spin 1s steps(1) infinite;\n",
              "  }\n",
              "\n",
              "  @keyframes spin {\n",
              "    0% {\n",
              "      border-color: transparent;\n",
              "      border-bottom-color: var(--fill-color);\n",
              "      border-left-color: var(--fill-color);\n",
              "    }\n",
              "    20% {\n",
              "      border-color: transparent;\n",
              "      border-left-color: var(--fill-color);\n",
              "      border-top-color: var(--fill-color);\n",
              "    }\n",
              "    30% {\n",
              "      border-color: transparent;\n",
              "      border-left-color: var(--fill-color);\n",
              "      border-top-color: var(--fill-color);\n",
              "      border-right-color: var(--fill-color);\n",
              "    }\n",
              "    40% {\n",
              "      border-color: transparent;\n",
              "      border-right-color: var(--fill-color);\n",
              "      border-top-color: var(--fill-color);\n",
              "    }\n",
              "    60% {\n",
              "      border-color: transparent;\n",
              "      border-right-color: var(--fill-color);\n",
              "    }\n",
              "    80% {\n",
              "      border-color: transparent;\n",
              "      border-right-color: var(--fill-color);\n",
              "      border-bottom-color: var(--fill-color);\n",
              "    }\n",
              "    90% {\n",
              "      border-color: transparent;\n",
              "      border-bottom-color: var(--fill-color);\n",
              "    }\n",
              "  }\n",
              "</style>\n",
              "\n",
              "  <script>\n",
              "    async function quickchart(key) {\n",
              "      const quickchartButtonEl =\n",
              "        document.querySelector('#' + key + ' button');\n",
              "      quickchartButtonEl.disabled = true;  // To prevent multiple clicks.\n",
              "      quickchartButtonEl.classList.add('colab-df-spinner');\n",
              "      try {\n",
              "        const charts = await google.colab.kernel.invokeFunction(\n",
              "            'suggestCharts', [key], {});\n",
              "      } catch (error) {\n",
              "        console.error('Error during call to suggestCharts:', error);\n",
              "      }\n",
              "      quickchartButtonEl.classList.remove('colab-df-spinner');\n",
              "      quickchartButtonEl.classList.add('colab-df-quickchart-complete');\n",
              "    }\n",
              "    (() => {\n",
              "      let quickchartButtonEl =\n",
              "        document.querySelector('#df-4d57698b-67fe-44c6-b7d3-523c88ab02cc button');\n",
              "      quickchartButtonEl.style.display =\n",
              "        google.colab.kernel.accessAllowed ? 'block' : 'none';\n",
              "    })();\n",
              "  </script>\n",
              "</div>\n",
              "    </div>\n",
              "  </div>\n"
            ],
            "text/plain": [
              "   Category                                            Message\n",
              "0         0  Go until jurong point, crazy.. Available only ...\n",
              "1         0                      Ok lar... Joking wif u oni...\n",
              "2         1  Free entry in 2 a wkly comp to win FA Cup fina...\n",
              "3         0  U dun say so early hor... U c already then say...\n",
              "4         0  Nah I don't think he goes to usf, he lives aro..."
            ]
          },
          "execution_count": 4,
          "metadata": {},
          "output_type": "execute_result"
        }
      ],
      "source": [
        "df = pd.read_csv('/content/spam.csv')\n",
        "df.head()"
      ]
    },
    {
      "cell_type": "code",
      "execution_count": 5,
      "metadata": {
        "id": "djejKGEJwcQm"
      },
      "outputs": [],
      "source": [
        "sentences = df['Message'].tolist()\n",
        "labels = df['Category'].tolist()"
      ]
    },
    {
      "cell_type": "code",
      "execution_count": 6,
      "metadata": {
        "id": "5UcB4yOvwd9Z"
      },
      "outputs": [],
      "source": [
        "train_size = int(len(sentences) * 0.9)"
      ]
    },
    {
      "cell_type": "code",
      "execution_count": 7,
      "metadata": {
        "id": "wI6l6J-hweyx"
      },
      "outputs": [],
      "source": [
        "training_sentences = sentences[0:train_size]\n",
        "testing_sentences = sentences[train_size:]\n",
        "training_labels = labels[0:train_size]\n",
        "testing_labels = labels[train_size:]"
      ]
    },
    {
      "cell_type": "code",
      "execution_count": 8,
      "metadata": {
        "id": "8fN_ss7IwfxM"
      },
      "outputs": [],
      "source": [
        "import numpy as np\n",
        "training_labels_final = np.array(training_labels)\n",
        "testing_labels_final = np.array(testing_labels)"
      ]
    },
    {
      "cell_type": "code",
      "execution_count": 9,
      "metadata": {
        "id": "70mwUWc3wgz9"
      },
      "outputs": [],
      "source": [
        "vocab_size = 500\n",
        "embedding_dim = 32\n",
        "max_length = 50\n",
        "trunc_type='post'\n",
        "padding_type='post'\n",
        "oov_tok = \"<OOV>\""
      ]
    },
    {
      "cell_type": "code",
      "execution_count": 10,
      "metadata": {
        "id": "NORKQkaywh9Q"
      },
      "outputs": [],
      "source": [
        "tokenizer = Tokenizer(num_words = vocab_size, oov_token=oov_tok)\n",
        "tokenizer.fit_on_texts(training_sentences)\n",
        "word_index = tokenizer.word_index\n",
        "sequences = tokenizer.texts_to_sequences(training_sentences)\n",
        "padded = pad_sequences(sequences, maxlen=max_length, padding=padding_type, truncating=trunc_type)"
      ]
    },
    {
      "cell_type": "code",
      "execution_count": 11,
      "metadata": {
        "id": "HczzokgKwjkl"
      },
      "outputs": [],
      "source": [
        "testing_sequences = tokenizer.texts_to_sequences(testing_sentences)\n",
        "testing_padded = pad_sequences(testing_sequences, maxlen=max_length, padding=padding_type, truncating=trunc_type)"
      ]
    },
    {
      "cell_type": "code",
      "execution_count": 12,
      "metadata": {
        "id": "5Vi5Xt3DwlJK"
      },
      "outputs": [],
      "source": [
        "reverse_word_index = dict([(value, key) for (key, value) in word_index.items()])"
      ]
    },
    {
      "cell_type": "code",
      "execution_count": 13,
      "metadata": {
        "colab": {
          "base_uri": "https://localhost:8080/"
        },
        "id": "NigJ2OxfwmT4",
        "outputId": "74e17293-2cd3-43aa-adfc-a83ea887d739"
      },
      "outputs": [
        {
          "name": "stdout",
          "output_type": "stream",
          "text": [
            "ok lar <OOV> wif u <OOV> ? ? ? ? ? ? ? ? ? ? ? ? ? ? ? ? ? ? ? ? ? ? ? ? ? ? ? ? ? ? ? ? ? ? ? ? ? ? ? ? ? ? ? ?\n",
            "Ok lar... Joking wif u oni...\n"
          ]
        }
      ],
      "source": [
        "def decode_review(text):\n",
        "    return ' '.join([reverse_word_index.get(i, '?') for i in text])\n",
        "\n",
        "print(decode_review(padded[1]))\n",
        "print(training_sentences[1])"
      ]
    },
    {
      "cell_type": "code",
      "execution_count": 14,
      "metadata": {
        "id": "IG_G301ewnL-"
      },
      "outputs": [],
      "source": [
        "import os\n",
        "embedding_index = {}\n",
        "embedding_dim = 100\n",
        "f = open(os.path.join('/content/glove.6B.100d.txt'), encoding = \"utf-8\")\n",
        "for line in f:\n",
        "    values = line.split()\n",
        "    word = values[0]\n",
        "    coeff = np.asarray(values[1:], dtype='float32')\n",
        "    embedding_index[word] = coeff\n",
        "f.close()"
      ]
    },
    {
      "cell_type": "code",
      "execution_count": 15,
      "metadata": {
        "id": "w7AiyMv-wqvL"
      },
      "outputs": [],
      "source": [
        "embedding_matrix = np.zeros((len(word_index) + 1, embedding_dim))\n",
        "for word, i in word_index.items():\n",
        "    embedding_vector = embedding_index.get(word)\n",
        "    if embedding_vector is not None:\n",
        "        embedding_matrix[i] = embedding_vector"
      ]
    },
    {
      "cell_type": "code",
      "execution_count": 16,
      "metadata": {
        "id": "lDmvkCO3wu7E"
      },
      "outputs": [],
      "source": [
        "from tensorflow.keras.models import Sequential\n",
        "from tensorflow.keras.layers import Dense, LSTM, Embedding"
      ]
    },
    {
      "cell_type": "code",
      "execution_count": 17,
      "metadata": {
        "id": "0HC6yn7uwxR9"
      },
      "outputs": [],
      "source": [
        "embedding_layer = Embedding(len(word_index) + 1,\n",
        "                            embedding_dim,\n",
        "                            weights=[embedding_matrix],\n",
        "                            input_length=max_length,\n",
        "                            trainable=False)"
      ]
    },
    {
      "cell_type": "code",
      "execution_count": 18,
      "metadata": {
        "colab": {
          "base_uri": "https://localhost:8080/"
        },
        "id": "tnJE67yywy96",
        "outputId": "618e60b1-a858-42d8-897c-c32177131f12"
      },
      "outputs": [
        {
          "name": "stderr",
          "output_type": "stream",
          "text": [
            "WARNING:tensorflow:Layer lstm will not use cuDNN kernels since it doesn't meet the criteria. It will use a generic GPU kernel as fallback when running on GPU.\n"
          ]
        }
      ],
      "source": [
        "model = Sequential()\n",
        "model.add(embedding_layer)\n",
        "model.add(LSTM(units=20,  dropout=0.2, recurrent_dropout=0.25))\n",
        "model.add(Dense(1, activation='sigmoid'))\n",
        "model.compile(loss='binary_crossentropy', optimizer='adam', metrics=['accuracy'])"
      ]
    },
    {
      "cell_type": "code",
      "execution_count": 19,
      "metadata": {
        "colab": {
          "base_uri": "https://localhost:8080/"
        },
        "id": "bu-fnh-Awz-Q",
        "outputId": "a8d7c462-e909-4442-dbcb-317b1cdcabc9"
      },
      "outputs": [
        {
          "name": "stdout",
          "output_type": "stream",
          "text": [
            "Model: \"sequential\"\n",
            "_________________________________________________________________\n",
            " Layer (type)                Output Shape              Param #   \n",
            "=================================================================\n",
            " embedding (Embedding)       (None, 50, 100)           855200    \n",
            "                                                                 \n",
            " lstm (LSTM)                 (None, 20)                9680      \n",
            "                                                                 \n",
            " dense (Dense)               (None, 1)                 21        \n",
            "                                                                 \n",
            "=================================================================\n",
            "Total params: 864901 (3.30 MB)\n",
            "Trainable params: 9701 (37.89 KB)\n",
            "Non-trainable params: 855200 (3.26 MB)\n",
            "_________________________________________________________________\n"
          ]
        }
      ],
      "source": [
        "model.summary()"
      ]
    },
    {
      "cell_type": "code",
      "execution_count": 20,
      "metadata": {
        "colab": {
          "base_uri": "https://localhost:8080/"
        },
        "id": "SPgEuFIKw3d3",
        "outputId": "a78cf560-47aa-4e8c-f96b-c06c0c960853"
      },
      "outputs": [
        {
          "name": "stdout",
          "output_type": "stream",
          "text": [
            "Epoch 1/30\n",
            "157/157 [==============================] - 41s 200ms/step - loss: 0.4217 - accuracy: 0.8706 - val_loss: 0.1894 - val_accuracy: 0.9606\n",
            "Epoch 2/30\n",
            "157/157 [==============================] - 54s 343ms/step - loss: 0.1670 - accuracy: 0.9505 - val_loss: 0.1151 - val_accuracy: 0.9552\n",
            "Epoch 3/30\n",
            "157/157 [==============================] - 30s 193ms/step - loss: 0.1268 - accuracy: 0.9619 - val_loss: 0.0821 - val_accuracy: 0.9731\n",
            "Epoch 4/30\n",
            "157/157 [==============================] - 35s 224ms/step - loss: 0.1047 - accuracy: 0.9703 - val_loss: 0.0886 - val_accuracy: 0.9767\n",
            "Epoch 5/30\n",
            "157/157 [==============================] - 36s 225ms/step - loss: 0.0800 - accuracy: 0.9773 - val_loss: 0.0678 - val_accuracy: 0.9821\n",
            "Epoch 6/30\n",
            "157/157 [==============================] - 30s 194ms/step - loss: 0.0818 - accuracy: 0.9753 - val_loss: 0.0652 - val_accuracy: 0.9821\n",
            "Epoch 7/30\n",
            "157/157 [==============================] - 31s 198ms/step - loss: 0.0717 - accuracy: 0.9805 - val_loss: 0.0589 - val_accuracy: 0.9839\n",
            "Epoch 8/30\n",
            "157/157 [==============================] - 36s 227ms/step - loss: 0.0712 - accuracy: 0.9797 - val_loss: 0.0518 - val_accuracy: 0.9839\n",
            "Epoch 9/30\n",
            "157/157 [==============================] - 33s 208ms/step - loss: 0.0654 - accuracy: 0.9817 - val_loss: 0.0525 - val_accuracy: 0.9839\n",
            "Epoch 10/30\n",
            "157/157 [==============================] - 30s 191ms/step - loss: 0.0595 - accuracy: 0.9824 - val_loss: 0.0485 - val_accuracy: 0.9839\n",
            "Epoch 11/30\n",
            "157/157 [==============================] - 31s 195ms/step - loss: 0.0580 - accuracy: 0.9836 - val_loss: 0.0489 - val_accuracy: 0.9857\n",
            "Epoch 12/30\n",
            "157/157 [==============================] - 35s 223ms/step - loss: 0.0546 - accuracy: 0.9840 - val_loss: 0.0441 - val_accuracy: 0.9875\n",
            "Epoch 13/30\n",
            "157/157 [==============================] - 33s 207ms/step - loss: 0.0527 - accuracy: 0.9840 - val_loss: 0.0489 - val_accuracy: 0.9857\n",
            "Epoch 14/30\n",
            "157/157 [==============================] - 30s 189ms/step - loss: 0.0488 - accuracy: 0.9876 - val_loss: 0.0534 - val_accuracy: 0.9892\n",
            "Epoch 15/30\n",
            "157/157 [==============================] - 30s 188ms/step - loss: 0.0547 - accuracy: 0.9828 - val_loss: 0.0477 - val_accuracy: 0.9875\n",
            "Epoch 16/30\n",
            "157/157 [==============================] - 33s 212ms/step - loss: 0.0464 - accuracy: 0.9870 - val_loss: 0.0461 - val_accuracy: 0.9875\n",
            "Epoch 17/30\n",
            "157/157 [==============================] - 34s 217ms/step - loss: 0.0449 - accuracy: 0.9888 - val_loss: 0.0458 - val_accuracy: 0.9857\n",
            "Epoch 18/30\n",
            "157/157 [==============================] - 29s 188ms/step - loss: 0.0495 - accuracy: 0.9848 - val_loss: 0.0537 - val_accuracy: 0.9857\n",
            "Epoch 19/30\n",
            "157/157 [==============================] - 29s 188ms/step - loss: 0.0485 - accuracy: 0.9846 - val_loss: 0.0511 - val_accuracy: 0.9821\n",
            "Epoch 20/30\n",
            "157/157 [==============================] - 33s 211ms/step - loss: 0.0439 - accuracy: 0.9880 - val_loss: 0.0464 - val_accuracy: 0.9857\n",
            "Epoch 21/30\n",
            "157/157 [==============================] - 36s 229ms/step - loss: 0.0456 - accuracy: 0.9854 - val_loss: 0.0407 - val_accuracy: 0.9875\n",
            "Epoch 22/30\n",
            "157/157 [==============================] - 30s 192ms/step - loss: 0.0428 - accuracy: 0.9882 - val_loss: 0.0503 - val_accuracy: 0.9839\n",
            "Epoch 23/30\n",
            "157/157 [==============================] - 30s 190ms/step - loss: 0.0411 - accuracy: 0.9886 - val_loss: 0.0405 - val_accuracy: 0.9892\n",
            "Epoch 24/30\n",
            "157/157 [==============================] - 31s 200ms/step - loss: 0.0372 - accuracy: 0.9904 - val_loss: 0.0382 - val_accuracy: 0.9857\n",
            "Epoch 25/30\n",
            "157/157 [==============================] - 35s 223ms/step - loss: 0.0377 - accuracy: 0.9888 - val_loss: 0.0438 - val_accuracy: 0.9857\n",
            "Epoch 26/30\n",
            "157/157 [==============================] - 31s 199ms/step - loss: 0.0358 - accuracy: 0.9898 - val_loss: 0.0420 - val_accuracy: 0.9892\n",
            "Epoch 27/30\n",
            "157/157 [==============================] - 30s 189ms/step - loss: 0.0352 - accuracy: 0.9910 - val_loss: 0.0482 - val_accuracy: 0.9910\n",
            "Epoch 28/30\n",
            "157/157 [==============================] - 31s 196ms/step - loss: 0.0371 - accuracy: 0.9888 - val_loss: 0.0454 - val_accuracy: 0.9857\n",
            "Epoch 29/30\n",
            "157/157 [==============================] - 35s 220ms/step - loss: 0.0344 - accuracy: 0.9904 - val_loss: 0.0396 - val_accuracy: 0.9892\n",
            "Epoch 30/30\n",
            "157/157 [==============================] - 33s 207ms/step - loss: 0.0322 - accuracy: 0.9906 - val_loss: 0.0408 - val_accuracy: 0.9892\n"
          ]
        }
      ],
      "source": [
        "num_epochs = 30\n",
        "history=model.fit(padded, training_labels_final, epochs=num_epochs, validation_data=(testing_padded, testing_labels_final))"
      ]
    },
    {
      "cell_type": "code",
      "execution_count": 21,
      "metadata": {
        "colab": {
          "base_uri": "https://localhost:8080/",
          "height": 472
        },
        "id": "rwby-UXrw493",
        "outputId": "72e76953-a61b-480d-e0b4-c108d84b64a1"
      },
      "outputs": [
        {
          "data": {
            "image/png": "[encoded data removed]",
            "text/plain": [
              "<Figure size 640x480 with 1 Axes>"
            ]
          },
          "metadata": {},
          "output_type": "display_data"
        }
      ],
      "source": [
        "import matplotlib.pyplot as plt\n",
        "plt.plot(history.history['loss'])\n",
        "plt.plot(history.history['val_loss'])\n",
        "plt.title('model loss')\n",
        "plt.ylabel('loss')\n",
        "plt.xlabel('epoch')\n",
        "plt.legend(['train', 'val'], loc='upper left')\n",
        "plt.show()"
      ]
    },
    {
      "cell_type": "code",
      "execution_count": 22,
      "metadata": {
        "colab": {
          "base_uri": "https://localhost:8080/"
        },
        "id": "UrtD0EnqxDj9",
        "outputId": "f0ffd205-9ee1-4b16-9ce2-3beb44a465de"
      },
      "outputs": [
        {
          "name": "stdout",
          "output_type": "stream",
          "text": [
            "(8552, 100)\n"
          ]
        }
      ],
      "source": [
        "e = model.layers[0]\n",
        "weights = e.get_weights()[0]\n",
        "print(weights.shape)"
      ]
    },
    {
      "cell_type": "code",
      "execution_count": 23,
      "metadata": {
        "id": "KP8uAGAixEwl"
      },
      "outputs": [],
      "source": [
        "text_messages = ['Call me back once you get this?',\n",
        "                'Congrats on your new offers! Click here to claim your prize...',\n",
        "                'Really like that new photo of you',\n",
        "                'Did you hear the news today? Total fiasco',\n",
        "                'Attend this data science meet...',\n",
        "                'Are you coming to the party tonight?',\n",
        "                'Your items have gone missing, let me know if you find them',\n",
        "                'Do not forget to bring your friends!',\n",
        "                'You have won a million dollars! Fill out your bank details here...',\n",
        "                'Looking forward to seeing you again']"
      ]
    },
    {
      "cell_type": "code",
      "execution_count": 24,
      "metadata": {
        "colab": {
          "base_uri": "https://localhost:8080/"
        },
        "id": "2VgN7MNrxF2d",
        "outputId": "f0bcac7c-a77d-4bed-9f08-ace8b5b52390"
      },
      "outputs": [
        {
          "name": "stdout",
          "output_type": "stream",
          "text": [
            "1/1 [==============================] - 0s 419ms/step\n"
          ]
        }
      ],
      "source": [
        "padding_type='post'\n",
        "sample_sequences = tokenizer.texts_to_sequences(text_messages)\n",
        "fakes_padded = pad_sequences(sample_sequences, padding=padding_type, maxlen=max_length)\n",
        "classes = model.predict(fakes_padded)"
      ]
    },
    {
      "cell_type": "code",
      "execution_count": 25,
      "metadata": {
        "colab": {
          "base_uri": "https://localhost:8080/"
        },
        "id": "sCQpRlrZxGyt",
        "outputId": "b0f134a0-edcf-4772-b205-aefa4e34e720"
      },
      "outputs": [
        {
          "name": "stdout",
          "output_type": "stream",
          "text": [
            "Call me back once you get this?\n",
            "[0.00117425]\n",
            "\n",
            "\n",
            "Congrats on your new offers! Click here to claim your prize...\n",
            "[0.9972269]\n",
            "\n",
            "\n",
            "Really like that new photo of you\n",
            "[0.00096208]\n",
            "\n",
            "\n",
            "Did you hear the news today? Total fiasco\n",
            "[0.00081231]\n",
            "\n",
            "\n",
            "Attend this data science meet...\n",
            "[0.00288106]\n",
            "\n",
            "\n",
            "Are you coming to the party tonight?\n",
            "[0.0012694]\n",
            "\n",
            "\n",
            "Your items have gone missing, let me know if you find them\n",
            "[0.00095673]\n",
            "\n",
            "\n",
            "Do not forget to bring your friends!\n",
            "[0.00089545]\n",
            "\n",
            "\n",
            "You have won a million dollars! Fill out your bank details here...\n",
            "[0.14368522]\n",
            "\n",
            "\n",
            "Looking forward to seeing you again\n",
            "[0.00147556]\n",
            "\n",
            "\n"
          ]
        }
      ],
      "source": [
        "for x in range(len(text_messages)):\n",
        "    print(text_messages[x])\n",
        "    print(classes[x])\n",
        "    print('\\n')"
      ]
    },
    {
      "cell_type": "code",
      "execution_count": null,
      "metadata": {
        "id": "vRv9BimRxHuE"
      },
      "outputs": [],
      "source": []
    }
  ],
  "metadata": {
    "accelerator": "GPU",
    "colab": {
      "gpuType": "T4",
      "provenance": []
    },
    "kernelspec": {
      "display_name": "Python 3",
      "name": "python3"
    },
    "language_info": {
      "name": "python"
    }
  },
  "nbformat": 4,
  "nbformat_minor": 0
}
