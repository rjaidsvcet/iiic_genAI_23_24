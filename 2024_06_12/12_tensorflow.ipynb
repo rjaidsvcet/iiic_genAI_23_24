{
  "cells": [
    {
      "cell_type": "code",
      "execution_count": 1,
      "metadata": {
        "id": "1-nJIcgIf4jl"
      },
      "outputs": [],
      "source": [
        "import pandas as pd\n",
        "import tensorflow as tf\n",
        "from tensorflow.keras.preprocessing.text import Tokenizer\n",
        "from tensorflow.keras.preprocessing.sequence import pad_sequences\n",
        "import numpy as np\n",
        "from tensorflow.keras.models import Sequential, Model\n",
        "from tensorflow.keras.layers import Dense, LSTM, Embedding, Bidirectional, Flatten, Conv1D, MaxPooling1D, Dropout, \\\n",
        "                                    Input, Activation, concatenate\n",
        "import matplotlib.pyplot as plt\n",
        "import os\n",
        "from tensorflow.keras.utils import to_categorical"
      ]
    },
    {
      "cell_type": "code",
      "execution_count": 2,
      "metadata": {
        "colab": {
          "base_uri": "https://localhost:8080/"
        },
        "id": "4tZMTS8Zf-YQ",
        "outputId": "25150d2b-b2f2-4e0f-ca92-53a8fc9fedc2"
      },
      "outputs": [
        {
          "name": "stdout",
          "output_type": "stream",
          "text": [
            "--2024-06-11 13:33:53--  https://nlp.stanford.edu/data/glove.6B.zip\n",
            "Resolving nlp.stanford.edu (nlp.stanford.edu)... 171.64.67.140\n",
            "Connecting to nlp.stanford.edu (nlp.stanford.edu)|171.64.67.140|:443... connected.\n",
            "HTTP request sent, awaiting response... 301 Moved Permanently\n",
            "Location: https://downloads.cs.stanford.edu/nlp/data/glove.6B.zip [following]\n",
            "--2024-06-11 13:33:53--  https://downloads.cs.stanford.edu/nlp/data/glove.6B.zip\n",
            "Resolving downloads.cs.stanford.edu (downloads.cs.stanford.edu)... 171.64.64.22\n",
            "Connecting to downloads.cs.stanford.edu (downloads.cs.stanford.edu)|171.64.64.22|:443... connected.\n",
            "HTTP request sent, awaiting response... 200 OK\n",
            "Length: 862182613 (822M) [application/zip]\n",
            "Saving to: ‘glove.6B.zip’\n",
            "\n",
            "glove.6B.zip        100%[===================>] 822.24M  5.02MB/s    in 2m 39s  \n",
            "\n",
            "2024-06-11 13:36:32 (5.17 MB/s) - ‘glove.6B.zip’ saved [862182613/862182613]\n",
            "\n"
          ]
        }
      ],
      "source": [
        "!wget https://nlp.stanford.edu/data/glove.6B.zip"
      ]
    },
    {
      "cell_type": "code",
      "execution_count": 3,
      "metadata": {
        "colab": {
          "base_uri": "https://localhost:8080/"
        },
        "id": "yNXvH7xggUpf",
        "outputId": "670ea9a3-cf9d-4de1-d591-ce88a389605c"
      },
      "outputs": [
        {
          "name": "stdout",
          "output_type": "stream",
          "text": [
            "Archive:  /content/glove.6B.zip\n",
            "  inflating: glove.6B.50d.txt        \n",
            "  inflating: glove.6B.100d.txt       \n",
            "  inflating: glove.6B.200d.txt       \n",
            "  inflating: glove.6B.300d.txt       \n"
          ]
        }
      ],
      "source": [
        "!unzip /content/glove.6B.zip"
      ]
    },
    {
      "cell_type": "code",
      "execution_count": 4,
      "metadata": {
        "id": "d1FfAVjrg8hH"
      },
      "outputs": [],
      "source": [
        "df = pd.read_csv('/content/spam.csv')"
      ]
    },
    {
      "cell_type": "code",
      "execution_count": 5,
      "metadata": {
        "id": "xoVIEwcGhCs3"
      },
      "outputs": [],
      "source": [
        "sentences = df['Message'].tolist()\n",
        "labels = df['Category'].tolist()"
      ]
    },
    {
      "cell_type": "code",
      "execution_count": 6,
      "metadata": {
        "id": "835DsIxRhF7H"
      },
      "outputs": [],
      "source": [
        "train_size = int(len(sentences) * 0.9)"
      ]
    },
    {
      "cell_type": "code",
      "execution_count": 7,
      "metadata": {
        "id": "4DYbzxrQhHDp"
      },
      "outputs": [],
      "source": [
        "training_sentences = sentences[0:train_size]\n",
        "testing_sentences = sentences[train_size:]\n",
        "training_labels = labels[0:train_size]\n",
        "testing_labels = labels[train_size:]"
      ]
    },
    {
      "cell_type": "code",
      "execution_count": 8,
      "metadata": {
        "id": "8SxyqOINhIBu"
      },
      "outputs": [],
      "source": [
        "training_labels_final = np.array(training_labels)\n",
        "testing_labels_final = np.array(testing_labels)"
      ]
    },
    {
      "cell_type": "code",
      "execution_count": 9,
      "metadata": {
        "id": "OmUNHIwshJHs"
      },
      "outputs": [],
      "source": [
        "tk = Tokenizer(char_level=True, oov_token='UNK')\n",
        "tk.fit_on_texts(training_sentences)\n",
        "\n",
        "alphabet = \"abcdefghijklmnopqrstuvwxyz0123456789,;.!?:'\\\"/\\\\|_@#$%^&*~`+-=<>()[]{}\"\n",
        "char_dict = {}\n",
        "for i, char in enumerate(alphabet):\n",
        "    char_dict[char] = i + 1\n",
        "\n",
        "tk.word_index = char_dict.copy()\n",
        "tk.word_index[tk.oov_token] = max(char_dict.values()) + 1\n",
        "\n",
        "train_sequences = tk.texts_to_sequences(training_sentences)\n",
        "test_texts = tk.texts_to_sequences(testing_sentences)\n",
        "\n",
        "train_data = pad_sequences(train_sequences, maxlen=1014, padding='post')\n",
        "test_data = pad_sequences(test_texts, maxlen=1014, padding='post')\n",
        "\n",
        "train_data = np.array(train_data, dtype='float32')\n",
        "test_data = np.array(test_data, dtype='float32')\n",
        "\n",
        "train_classes = train_data[0]\n",
        "train_class_list = [x - 1 for x in train_classes]\n",
        "\n",
        "test_classes = test_data[0]\n",
        "test_class_list = [x - 1 for x in test_classes]\n",
        "\n",
        "train_classes = to_categorical(train_class_list)\n",
        "test_classes = to_categorical(test_class_list)\n",
        "\n",
        "input_size = 1014\n",
        "vocab_size = len(tk.word_index)\n",
        "embedding_size = 69\n",
        "conv_layers = [[256, 7, 3],\n",
        "               [256, 7, 3],\n",
        "               [256, 3, -1],\n",
        "               [256, 3, -1],\n",
        "               [256, 3, -1],\n",
        "               [256, 3, 3]]\n",
        "\n",
        "fully_connected_layers = [1024, 1024]\n",
        "dropout_p = 0.5\n",
        "\n",
        "embedding_weights = []\n",
        "embedding_weights.append(np.zeros(vocab_size))\n",
        "\n",
        "for char, i in tk.word_index.items():\n",
        "    onehot = np.zeros(vocab_size)\n",
        "    onehot[i - 1] = 1\n",
        "    embedding_weights.append(onehot)\n",
        "\n",
        "embedding_weights = np.array(embedding_weights)\n",
        "\n",
        "emb_layer = Embedding(vocab_size + 1,\n",
        "                            embedding_size,\n",
        "                            input_length=input_size,\n",
        "                            weights=[embedding_weights])\n",
        "\n",
        "inputs = Input(shape=(input_size), name='input', dtype='int64')\n",
        "x = emb_layer(inputs)\n",
        "\n",
        "for filter_num, filter_size, pooling_size in conv_layers:\n",
        "    x = Conv1D(filter_num, filter_size)(x)\n",
        "    x = Activation('relu')(x)\n",
        "    if pooling_size != -1:\n",
        "        x = MaxPooling1D(pool_size=pooling_size)(x)\n",
        "\n",
        "x = Flatten()(x)\n",
        "\n",
        "for dense_size in fully_connected_layers:\n",
        "    x = Dense(dense_size, activation='relu')(x)\n",
        "    x = Dropout(dropout_p)(x)\n",
        "\n",
        "x = Dense(1, activation='relu')(x)\n",
        "x = Model(inputs = inputs, outputs = x)"
      ]
    },
    {
      "cell_type": "code",
      "execution_count": 10,
      "metadata": {
        "id": "Xwvtz3cohPmQ"
      },
      "outputs": [],
      "source": [
        "embedding_index = {}\n",
        "embedding_dim = 100\n",
        "f = open(os.path.join('/content/glove.6B.100d.txt'), encoding = \"utf-8\")\n",
        "for line in f:\n",
        "    values = line.split()\n",
        "    word = values[0]\n",
        "    coeff = np.asarray(values[1:], dtype='float32')\n",
        "    embedding_index[word] = coeff\n",
        "f.close()"
      ]
    },
    {
      "cell_type": "code",
      "execution_count": 11,
      "metadata": {
        "id": "lVpMgdbbhTqk"
      },
      "outputs": [],
      "source": [
        "tokenizer = Tokenizer()\n",
        "tokenizer.fit_on_texts(training_sentences)\n",
        "word_index = tokenizer.word_index\n",
        "sequences = tokenizer.texts_to_sequences(training_sentences)\n",
        "X_train = pad_sequences(sequences, maxlen = 100)\n",
        "test_sequences = tokenizer.texts_to_sequences(testing_sentences)\n",
        "X_test = pad_sequences(test_sequences, maxlen = 100)"
      ]
    },
    {
      "cell_type": "code",
      "execution_count": 12,
      "metadata": {
        "id": "g2sP5nLphW9i"
      },
      "outputs": [],
      "source": [
        "embedding_matrix = np.zeros((len(word_index) + 1, embedding_dim))\n",
        "for word, i in word_index.items():\n",
        "    embedding_vector = embedding_index.get(word)\n",
        "    if embedding_vector is not None:\n",
        "        embedding_matrix[i] = embedding_vector"
      ]
    },
    {
      "cell_type": "code",
      "execution_count": 13,
      "metadata": {
        "id": "jBH0zggihYBG"
      },
      "outputs": [],
      "source": [
        "embedding_layer = Embedding(len(word_index) + 1,\n",
        "                            embedding_dim,\n",
        "                            weights=[embedding_matrix],\n",
        "                            input_length=100,\n",
        "                            trainable=False)"
      ]
    },
    {
      "cell_type": "code",
      "execution_count": 14,
      "metadata": {
        "colab": {
          "base_uri": "https://localhost:8080/"
        },
        "id": "xudSory_hZcY",
        "outputId": "2650636e-7abb-428c-ae2c-43573b9b1514"
      },
      "outputs": [
        {
          "name": "stderr",
          "output_type": "stream",
          "text": [
            "WARNING:tensorflow:Layer lstm will not use cuDNN kernels since it doesn't meet the criteria. It will use a generic GPU kernel as fallback when running on GPU.\n",
            "WARNING:tensorflow:Layer lstm will not use cuDNN kernels since it doesn't meet the criteria. It will use a generic GPU kernel as fallback when running on GPU.\n",
            "WARNING:tensorflow:Layer lstm will not use cuDNN kernels since it doesn't meet the criteria. It will use a generic GPU kernel as fallback when running on GPU.\n"
          ]
        }
      ],
      "source": [
        "input_y = Input(shape=(100), name='input_2')\n",
        "y = embedding_layer(input_y)\n",
        "y = Bidirectional(LSTM(units=20, dropout=0.2, recurrent_dropout=0.25))(y)\n",
        "# y = Dense(1, activation = 'sigmoid')(y)\n",
        "y = Model(inputs = input_y, outputs = y)"
      ]
    },
    {
      "cell_type": "code",
      "execution_count": 15,
      "metadata": {
        "id": "Q4aM9udAhbOS"
      },
      "outputs": [],
      "source": [
        "combined = concatenate([x.output, y.output])"
      ]
    },
    {
      "cell_type": "code",
      "execution_count": 16,
      "metadata": {
        "id": "GcdERVnJhclv"
      },
      "outputs": [],
      "source": [
        "z = Dense(2, activation = 'relu')(combined)\n",
        "z = Dense(1, activation = 'sigmoid')(z)"
      ]
    },
    {
      "cell_type": "code",
      "execution_count": 17,
      "metadata": {
        "id": "4NbrVnyQhdpK"
      },
      "outputs": [],
      "source": [
        "model = Model(inputs = [x.input, y.input], outputs = z)"
      ]
    },
    {
      "cell_type": "code",
      "execution_count": 18,
      "metadata": {
        "id": "afpDjUdAhfLO"
      },
      "outputs": [],
      "source": [
        "model.compile(loss='binary_crossentropy', optimizer='adam', metrics=['accuracy'])"
      ]
    },
    {
      "cell_type": "code",
      "execution_count": 19,
      "metadata": {
        "colab": {
          "base_uri": "https://localhost:8080/"
        },
        "id": "STvzdR4JhjBL",
        "outputId": "9ce1a0c6-74ea-4886-987e-d22950217904"
      },
      "outputs": [
        {
          "name": "stdout",
          "output_type": "stream",
          "text": [
            "Model: \"model_2\"\n",
            "__________________________________________________________________________________________________\n",
            " Layer (type)                Output Shape                 Param #   Connected to                  \n",
            "==================================================================================================\n",
            " input (InputLayer)          [(None, 1014)]               0         []                            \n",
            "                                                                                                  \n",
            " embedding (Embedding)       (None, 1014, 69)             4830      ['input[0][0]']               \n",
            "                                                                                                  \n",
            " conv1d (Conv1D)             (None, 1008, 256)            123904    ['embedding[0][0]']           \n",
            "                                                                                                  \n",
            " activation (Activation)     (None, 1008, 256)            0         ['conv1d[0][0]']              \n",
            "                                                                                                  \n",
            " max_pooling1d (MaxPooling1  (None, 336, 256)             0         ['activation[0][0]']          \n",
            " D)                                                                                               \n",
            "                                                                                                  \n",
            " conv1d_1 (Conv1D)           (None, 330, 256)             459008    ['max_pooling1d[0][0]']       \n",
            "                                                                                                  \n",
            " activation_1 (Activation)   (None, 330, 256)             0         ['conv1d_1[0][0]']            \n",
            "                                                                                                  \n",
            " max_pooling1d_1 (MaxPoolin  (None, 110, 256)             0         ['activation_1[0][0]']        \n",
            " g1D)                                                                                             \n",
            "                                                                                                  \n",
            " conv1d_2 (Conv1D)           (None, 108, 256)             196864    ['max_pooling1d_1[0][0]']     \n",
            "                                                                                                  \n",
            " activation_2 (Activation)   (None, 108, 256)             0         ['conv1d_2[0][0]']            \n",
            "                                                                                                  \n",
            " conv1d_3 (Conv1D)           (None, 106, 256)             196864    ['activation_2[0][0]']        \n",
            "                                                                                                  \n",
            " activation_3 (Activation)   (None, 106, 256)             0         ['conv1d_3[0][0]']            \n",
            "                                                                                                  \n",
            " conv1d_4 (Conv1D)           (None, 104, 256)             196864    ['activation_3[0][0]']        \n",
            "                                                                                                  \n",
            " activation_4 (Activation)   (None, 104, 256)             0         ['conv1d_4[0][0]']            \n",
            "                                                                                                  \n",
            " conv1d_5 (Conv1D)           (None, 102, 256)             196864    ['activation_4[0][0]']        \n",
            "                                                                                                  \n",
            " activation_5 (Activation)   (None, 102, 256)             0         ['conv1d_5[0][0]']            \n",
            "                                                                                                  \n",
            " max_pooling1d_2 (MaxPoolin  (None, 34, 256)              0         ['activation_5[0][0]']        \n",
            " g1D)                                                                                             \n",
            "                                                                                                  \n",
            " flatten (Flatten)           (None, 8704)                 0         ['max_pooling1d_2[0][0]']     \n",
            "                                                                                                  \n",
            " dense (Dense)               (None, 1024)                 8913920   ['flatten[0][0]']             \n",
            "                                                                                                  \n",
            " dropout (Dropout)           (None, 1024)                 0         ['dense[0][0]']               \n",
            "                                                                                                  \n",
            " dense_1 (Dense)             (None, 1024)                 1049600   ['dropout[0][0]']             \n",
            "                                                                                                  \n",
            " input_2 (InputLayer)        [(None, 100)]                0         []                            \n",
            "                                                                                                  \n",
            " dropout_1 (Dropout)         (None, 1024)                 0         ['dense_1[0][0]']             \n",
            "                                                                                                  \n",
            " embedding_1 (Embedding)     (None, 100, 100)             855100    ['input_2[0][0]']             \n",
            "                                                                                                  \n",
            " dense_2 (Dense)             (None, 1)                    1025      ['dropout_1[0][0]']           \n",
            "                                                                                                  \n",
            " bidirectional (Bidirection  (None, 40)                   19360     ['embedding_1[0][0]']         \n",
            " al)                                                                                              \n",
            "                                                                                                  \n",
            " concatenate (Concatenate)   (None, 41)                   0         ['dense_2[0][0]',             \n",
            "                                                                     'bidirectional[0][0]']       \n",
            "                                                                                                  \n",
            " dense_3 (Dense)             (None, 2)                    84        ['concatenate[0][0]']         \n",
            "                                                                                                  \n",
            " dense_4 (Dense)             (None, 1)                    3         ['dense_3[0][0]']             \n",
            "                                                                                                  \n",
            "==================================================================================================\n",
            "Total params: 12214290 (46.59 MB)\n",
            "Trainable params: 11359190 (43.33 MB)\n",
            "Non-trainable params: 855100 (3.26 MB)\n",
            "__________________________________________________________________________________________________\n"
          ]
        }
      ],
      "source": [
        "model.summary ()"
      ]
    },
    {
      "cell_type": "code",
      "execution_count": 20,
      "metadata": {
        "colab": {
          "base_uri": "https://localhost:8080/"
        },
        "id": "8LORLTTPhk_T",
        "outputId": "5859f650-64d7-4672-bd45-ac1132e30813"
      },
      "outputs": [
        {
          "name": "stdout",
          "output_type": "stream",
          "text": [
            "Epoch 1/5\n",
            "157/157 [==============================] - 163s 892ms/step - loss: 0.4160 - accuracy: 0.8550 - val_loss: 0.2290 - val_accuracy: 0.8710\n",
            "Epoch 2/5\n",
            "157/157 [==============================] - 122s 780ms/step - loss: 0.1963 - accuracy: 0.8654 - val_loss: 0.1539 - val_accuracy: 0.8710\n",
            "Epoch 3/5\n",
            "157/157 [==============================] - 130s 831ms/step - loss: 0.1549 - accuracy: 0.9079 - val_loss: 0.1377 - val_accuracy: 0.9713\n",
            "Epoch 4/5\n",
            "157/157 [==============================] - 123s 786ms/step - loss: 0.1399 - accuracy: 0.9679 - val_loss: 0.1216 - val_accuracy: 0.9749\n",
            "Epoch 5/5\n",
            "157/157 [==============================] - 131s 834ms/step - loss: 0.1292 - accuracy: 0.9749 - val_loss: 0.1132 - val_accuracy: 0.9767\n"
          ]
        }
      ],
      "source": [
        "history=model.fit(x=[train_data, X_train], y=training_labels_final,\\\n",
        "                  epochs=5, validation_data=([test_data, X_test], testing_labels_final))"
      ]
    },
    {
      "cell_type": "code",
      "execution_count": 21,
      "metadata": {
        "colab": {
          "base_uri": "https://localhost:8080/",
          "height": 472
        },
        "id": "hVFLOF7IhsO-",
        "outputId": "446a158e-4f96-4301-fbfb-3a41fbf0ec7a"
      },
      "outputs": [
        {
          "data": {
            "image/png": "[encoded data removed]",
            "text/plain": [
              "<Figure size 640x480 with 1 Axes>"
            ]
          },
          "metadata": {},
          "output_type": "display_data"
        }
      ],
      "source": [
        "import matplotlib.pyplot as plt\n",
        "plt.plot(history.history['loss'])\n",
        "plt.plot(history.history['val_loss'])\n",
        "plt.title('model loss')\n",
        "plt.ylabel('loss')\n",
        "plt.xlabel('epoch')\n",
        "plt.legend(['train', 'val'], loc='upper left')\n",
        "plt.show()"
      ]
    },
    {
      "cell_type": "code",
      "execution_count": null,
      "metadata": {
        "id": "P_5fL9iWh3Cx"
      },
      "outputs": [],
      "source": []
    }
  ],
  "metadata": {
    "accelerator": "GPU",
    "colab": {
      "gpuType": "T4",
      "provenance": []
    },
    "kernelspec": {
      "display_name": "Python 3",
      "name": "python3"
    },
    "language_info": {
      "name": "python"
    }
  },
  "nbformat": 4,
  "nbformat_minor": 0
}
