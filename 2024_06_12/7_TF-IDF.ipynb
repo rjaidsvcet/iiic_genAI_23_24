{
 "cells": [
  {
   "cell_type": "code",
   "execution_count": 1,
   "id": "framed-campbell",
   "metadata": {},
   "outputs": [],
   "source": [
    "article = '''The biggest known star in our universe is Stephenson 2-18. It is a type of “Red Supergiant Star” and these types of stars are the largest stars in the universe according to volume. \n",
    "Stephenson 2-18 Star located in a cluster of stars “Stephenson 2” that exist in the constellation of Scutum. \n",
    "The estimated distance of Stephenson 2-18 star is around 19000 light-years away from the Earth. That is equal to almost 6,000 parsecs.\n",
    "Stephenson 2-18 star is so big that 10 billion Sun size star can enter inside of it. \n",
    "The luminosity of the biggest star Stephenson 2-18 could be around 440,000 times of sun’s luminosity. Whereas the usual luminosity of any red supergiant star is around 30,000 to 50,000 times the sun’s luminosity. So this is totally unusual for this largest star. And for this unusual property, it exists at the top right corner of the Hertzsprung–Russell diagram for its M6 spectral type.'''"
   ]
  },
  {
   "cell_type": "code",
   "execution_count": 2,
   "id": "perfect-mambo",
   "metadata": {},
   "outputs": [
    {
     "data": {
      "text/plain": [
       "'The biggest known star in our universe is Stephenson 2-18. It is a type of “Red Supergiant Star” and these types of stars are the largest stars in the universe according to volume. \\nStephenson 2-18 Star located in a cluster of stars “Stephenson 2” that exist in the constellation of Scutum. \\nThe estimated distance of Stephenson 2-18 star is around 19000 light-years away from the Earth. That is equal to almost 6,000 parsecs.\\nStephenson 2-18 star is so big that 10 billion Sun size star can enter inside of it. \\nThe luminosity of the biggest star Stephenson 2-18 could be around 440,000 times of sun’s luminosity. Whereas the usual luminosity of any red supergiant star is around 30,000 to 50,000 times the sun’s luminosity. So this is totally unusual for this largest star. And for this unusual property, it exists at the top right corner of the Hertzsprung–Russell diagram for its M6 spectral type.'"
      ]
     },
     "execution_count": 2,
     "metadata": {},
     "output_type": "execute_result"
    }
   ],
   "source": [
    "article"
   ]
  },
  {
   "cell_type": "code",
   "execution_count": 3,
   "id": "according-beverage",
   "metadata": {},
   "outputs": [],
   "source": [
    "import re\n",
    "from nltk import sent_tokenize\n",
    "from nltk.corpus import stopwords\n",
    "from nltk.stem import WordNetLemmatizer"
   ]
  },
  {
   "cell_type": "code",
   "execution_count": 4,
   "id": "accessory-immigration",
   "metadata": {},
   "outputs": [],
   "source": [
    "wordnet = WordNetLemmatizer()"
   ]
  },
  {
   "cell_type": "code",
   "execution_count": 5,
   "id": "bulgarian-archive",
   "metadata": {},
   "outputs": [],
   "source": [
    "sentences = sent_tokenize(article)"
   ]
  },
  {
   "cell_type": "code",
   "execution_count": 6,
   "id": "christian-brick",
   "metadata": {},
   "outputs": [
    {
     "data": {
      "text/plain": [
       "['The biggest known star in our universe is Stephenson 2-18.',\n",
       " 'It is a type of “Red Supergiant Star” and these types of stars are the largest stars in the universe according to volume.',\n",
       " 'Stephenson 2-18 Star located in a cluster of stars “Stephenson 2” that exist in the constellation of Scutum.',\n",
       " 'The estimated distance of Stephenson 2-18 star is around 19000 light-years away from the Earth.',\n",
       " 'That is equal to almost 6,000 parsecs.',\n",
       " 'Stephenson 2-18 star is so big that 10 billion Sun size star can enter inside of it.',\n",
       " 'The luminosity of the biggest star Stephenson 2-18 could be around 440,000 times of sun’s luminosity.',\n",
       " 'Whereas the usual luminosity of any red supergiant star is around 30,000 to 50,000 times the sun’s luminosity.',\n",
       " 'So this is totally unusual for this largest star.',\n",
       " 'And for this unusual property, it exists at the top right corner of the Hertzsprung–Russell diagram for its M6 spectral type.']"
      ]
     },
     "execution_count": 6,
     "metadata": {},
     "output_type": "execute_result"
    }
   ],
   "source": [
    "sentences"
   ]
  },
  {
   "cell_type": "code",
   "execution_count": 7,
   "id": "metallic-scholar",
   "metadata": {},
   "outputs": [],
   "source": [
    "lemmatized_holder = list()"
   ]
  },
  {
   "cell_type": "code",
   "execution_count": 8,
   "id": "broke-laptop",
   "metadata": {},
   "outputs": [],
   "source": [
    "for i in range(len(sentences)):\n",
    "    keeping_important_stuff = re.sub('[^a-zA-Z0-9]', ' ', sentences[i])\n",
    "    lowercase = keeping_important_stuff.lower()\n",
    "    splitting = lowercase.split()\n",
    "    lemmatization = [wordnet.lemmatize(w) for w in splitting if not w in set(stopwords.words('english'))]\n",
    "    joining = ' '.join(lemmatization)\n",
    "    lemmatized_holder.append(joining)"
   ]
  },
  {
   "cell_type": "code",
   "execution_count": 9,
   "id": "afraid-ottawa",
   "metadata": {},
   "outputs": [
    {
     "data": {
      "text/plain": [
       "['biggest known star universe stephenson 2 18',\n",
       " 'type red supergiant star type star largest star universe according volume',\n",
       " 'stephenson 2 18 star located cluster star stephenson 2 exist constellation scutum',\n",
       " 'estimated distance stephenson 2 18 star around 19000 light year away earth',\n",
       " 'equal almost 6 000 parsec',\n",
       " 'stephenson 2 18 star big 10 billion sun size star enter inside',\n",
       " 'luminosity biggest star stephenson 2 18 could around 440 000 time sun luminosity',\n",
       " 'whereas usual luminosity red supergiant star around 30 000 50 000 time sun luminosity',\n",
       " 'totally unusual largest star',\n",
       " 'unusual property exists top right corner hertzsprung russell diagram m6 spectral type']"
      ]
     },
     "execution_count": 9,
     "metadata": {},
     "output_type": "execute_result"
    }
   ],
   "source": [
    "lemmatized_holder"
   ]
  },
  {
   "cell_type": "markdown",
   "id": "authorized-product",
   "metadata": {},
   "source": [
    "**TF-IDF**"
   ]
  },
  {
   "cell_type": "markdown",
   "id": "quantitative-india",
   "metadata": {},
   "source": [
    "TF - *Term Frequency*\n",
    "\n",
    "\n",
    "IDF - *Inverse Document Frequency*"
   ]
  },
  {
   "cell_type": "markdown",
   "id": "statewide-miracle",
   "metadata": {},
   "source": [
    "T - *Term aka Word*\n",
    "\n",
    "\n",
    "D - *Document aka Set of Words*"
   ]
  },
  {
   "cell_type": "markdown",
   "id": "south-remainder",
   "metadata": {},
   "source": [
    "Term Frequency is number of times a particular word is occuring in the document."
   ]
  },
  {
   "cell_type": "markdown",
   "id": "seasonal-thailand",
   "metadata": {},
   "source": [
    "\n",
    "$$ TF(T, D) = \\frac{D(|T|)}{D[N(T)]} $$"
   ]
  },
  {
   "cell_type": "markdown",
   "id": "available-buying",
   "metadata": {},
   "source": [
    "Document Frequency"
   ]
  },
  {
   "cell_type": "markdown",
   "id": "mexican-sensitivity",
   "metadata": {},
   "source": [
    "$$ DF(T) = D[C(T)] $$"
   ]
  },
  {
   "cell_type": "markdown",
   "id": "static-ocean",
   "metadata": {},
   "source": [
    "Inverse Document Frequency"
   ]
  },
  {
   "cell_type": "markdown",
   "id": "collective-steel",
   "metadata": {},
   "source": [
    "$$ IDF(T) = log\\frac{Total Number(D)}{1+DF(T)} $$"
   ]
  },
  {
   "cell_type": "markdown",
   "id": "sunrise-stereo",
   "metadata": {},
   "source": [
    "TF-IDF"
   ]
  },
  {
   "cell_type": "markdown",
   "id": "broke-regression",
   "metadata": {},
   "source": [
    "$$ TF-IDF(T, D) = TF(T, D)*log\\frac{N}{1 + DF(T)} $$"
   ]
  },
  {
   "cell_type": "code",
   "execution_count": 10,
   "id": "respective-bracket",
   "metadata": {},
   "outputs": [],
   "source": [
    "from sklearn.feature_extraction.text import TfidfVectorizer\n",
    "tfidf = TfidfVectorizer()"
   ]
  },
  {
   "cell_type": "code",
   "execution_count": 11,
   "id": "logical-petite",
   "metadata": {},
   "outputs": [],
   "source": [
    "X_data = tfidf.fit_transform(lemmatized_holder).toarray()"
   ]
  },
  {
   "cell_type": "code",
   "execution_count": 12,
   "id": "laughing-primary",
   "metadata": {},
   "outputs": [
    {
     "data": {
      "text/plain": [
       "array([[0.        , 0.        , 0.32455454, 0.        , 0.        ,\n",
       "        0.        , 0.        , 0.        , 0.        , 0.        ,\n",
       "        0.        , 0.        , 0.46461994, 0.        , 0.        ,\n",
       "        0.        , 0.        , 0.        , 0.        , 0.        ,\n",
       "        0.        , 0.        , 0.        , 0.        , 0.        ,\n",
       "        0.        , 0.        , 0.        , 0.54655295, 0.        ,\n",
       "        0.        , 0.        , 0.        , 0.        , 0.        ,\n",
       "        0.        , 0.        , 0.        , 0.        , 0.        ,\n",
       "        0.        , 0.        , 0.24262153, 0.32455454, 0.        ,\n",
       "        0.        , 0.        , 0.        , 0.        , 0.        ,\n",
       "        0.46461994, 0.        , 0.        , 0.        , 0.        ,\n",
       "        0.        ],\n",
       "       [0.        , 0.        , 0.        , 0.        , 0.        ,\n",
       "        0.        , 0.        , 0.3235117 , 0.        , 0.        ,\n",
       "        0.        , 0.        , 0.        , 0.        , 0.        ,\n",
       "        0.        , 0.        , 0.        , 0.        , 0.        ,\n",
       "        0.        , 0.        , 0.        , 0.        , 0.        ,\n",
       "        0.        , 0.        , 0.        , 0.        , 0.2750145 ,\n",
       "        0.        , 0.        , 0.        , 0.        , 0.        ,\n",
       "        0.        , 0.2750145 , 0.        , 0.        , 0.        ,\n",
       "        0.        , 0.        , 0.43083238, 0.        , 0.        ,\n",
       "        0.2750145 , 0.        , 0.        , 0.        , 0.55002901,\n",
       "        0.2750145 , 0.        , 0.        , 0.3235117 , 0.        ,\n",
       "        0.        ],\n",
       "       [0.        , 0.        , 0.21609424, 0.        , 0.        ,\n",
       "        0.        , 0.        , 0.        , 0.        , 0.        ,\n",
       "        0.        , 0.        , 0.        , 0.        , 0.36390477,\n",
       "        0.36390477, 0.        , 0.        , 0.        , 0.        ,\n",
       "        0.        , 0.        , 0.        , 0.        , 0.36390477,\n",
       "        0.        , 0.        , 0.        , 0.        , 0.        ,\n",
       "        0.        , 0.36390477, 0.        , 0.        , 0.        ,\n",
       "        0.        , 0.        , 0.        , 0.        , 0.36390477,\n",
       "        0.        , 0.        , 0.32308354, 0.43218848, 0.        ,\n",
       "        0.        , 0.        , 0.        , 0.        , 0.        ,\n",
       "        0.        , 0.        , 0.        , 0.        , 0.        ,\n",
       "        0.        ],\n",
       "       [0.        , 0.        , 0.20421488, 0.34389982, 0.        ,\n",
       "        0.        , 0.        , 0.        , 0.        , 0.25576843,\n",
       "        0.34389982, 0.        , 0.        , 0.        , 0.        ,\n",
       "        0.        , 0.        , 0.        , 0.        , 0.34389982,\n",
       "        0.34389982, 0.        , 0.        , 0.34389982, 0.        ,\n",
       "        0.        , 0.        , 0.        , 0.        , 0.        ,\n",
       "        0.34389982, 0.        , 0.        , 0.        , 0.        ,\n",
       "        0.        , 0.        , 0.        , 0.        , 0.        ,\n",
       "        0.        , 0.        , 0.15266133, 0.20421488, 0.        ,\n",
       "        0.        , 0.        , 0.        , 0.        , 0.        ,\n",
       "        0.        , 0.        , 0.        , 0.        , 0.        ,\n",
       "        0.34389982],\n",
       "       [0.39455653, 0.        , 0.        , 0.        , 0.        ,\n",
       "        0.        , 0.        , 0.        , 0.53051081, 0.        ,\n",
       "        0.        , 0.        , 0.        , 0.        , 0.        ,\n",
       "        0.        , 0.        , 0.        , 0.        , 0.        ,\n",
       "        0.        , 0.        , 0.53051081, 0.        , 0.        ,\n",
       "        0.        , 0.        , 0.        , 0.        , 0.        ,\n",
       "        0.        , 0.        , 0.        , 0.        , 0.53051081,\n",
       "        0.        , 0.        , 0.        , 0.        , 0.        ,\n",
       "        0.        , 0.        , 0.        , 0.        , 0.        ,\n",
       "        0.        , 0.        , 0.        , 0.        , 0.        ,\n",
       "        0.        , 0.        , 0.        , 0.        , 0.        ,\n",
       "        0.        ],\n",
       "       [0.        , 0.35252788, 0.2093384 , 0.        , 0.        ,\n",
       "        0.        , 0.        , 0.        , 0.        , 0.        ,\n",
       "        0.        , 0.35252788, 0.        , 0.35252788, 0.        ,\n",
       "        0.        , 0.        , 0.        , 0.        , 0.        ,\n",
       "        0.        , 0.35252788, 0.        , 0.        , 0.        ,\n",
       "        0.        , 0.        , 0.35252788, 0.        , 0.        ,\n",
       "        0.        , 0.        , 0.        , 0.        , 0.        ,\n",
       "        0.        , 0.        , 0.        , 0.        , 0.        ,\n",
       "        0.35252788, 0.        , 0.31298286, 0.2093384 , 0.26218538,\n",
       "        0.        , 0.        , 0.        , 0.        , 0.        ,\n",
       "        0.        , 0.        , 0.        , 0.        , 0.        ,\n",
       "        0.        ],\n",
       "       [0.24933179, 0.        , 0.19907563, 0.        , 0.        ,\n",
       "        0.33524527, 0.        , 0.        , 0.        , 0.24933179,\n",
       "        0.        , 0.        , 0.28498911, 0.        , 0.        ,\n",
       "        0.        , 0.        , 0.33524527, 0.        , 0.        ,\n",
       "        0.        , 0.        , 0.        , 0.        , 0.        ,\n",
       "        0.        , 0.        , 0.        , 0.        , 0.        ,\n",
       "        0.        , 0.        , 0.56997821, 0.        , 0.        ,\n",
       "        0.        , 0.        , 0.        , 0.        , 0.        ,\n",
       "        0.        , 0.        , 0.14881947, 0.19907563, 0.24933179,\n",
       "        0.        , 0.28498911, 0.        , 0.        , 0.        ,\n",
       "        0.        , 0.        , 0.        , 0.        , 0.        ,\n",
       "        0.        ],\n",
       "       [0.41946966, 0.        , 0.        , 0.        , 0.28200419,\n",
       "        0.        , 0.28200419, 0.        , 0.        , 0.20973483,\n",
       "        0.        , 0.        , 0.        , 0.        , 0.        ,\n",
       "        0.        , 0.        , 0.        , 0.        , 0.        ,\n",
       "        0.        , 0.        , 0.        , 0.        , 0.        ,\n",
       "        0.        , 0.        , 0.        , 0.        , 0.        ,\n",
       "        0.        , 0.        , 0.47945865, 0.        , 0.        ,\n",
       "        0.        , 0.23972932, 0.        , 0.        , 0.        ,\n",
       "        0.        , 0.        , 0.1251851 , 0.        , 0.20973483,\n",
       "        0.23972932, 0.23972932, 0.        , 0.        , 0.        ,\n",
       "        0.        , 0.        , 0.28200419, 0.        , 0.28200419,\n",
       "        0.        ],\n",
       "       [0.        , 0.        , 0.        , 0.        , 0.        ,\n",
       "        0.        , 0.        , 0.        , 0.        , 0.        ,\n",
       "        0.        , 0.        , 0.        , 0.        , 0.        ,\n",
       "        0.        , 0.        , 0.        , 0.        , 0.        ,\n",
       "        0.        , 0.        , 0.        , 0.        , 0.        ,\n",
       "        0.        , 0.        , 0.        , 0.        , 0.52296051,\n",
       "        0.        , 0.        , 0.        , 0.        , 0.        ,\n",
       "        0.        , 0.        , 0.        , 0.        , 0.        ,\n",
       "        0.        , 0.        , 0.27308659, 0.        , 0.        ,\n",
       "        0.        , 0.        , 0.        , 0.61518154, 0.        ,\n",
       "        0.        , 0.52296051, 0.        , 0.        , 0.        ,\n",
       "        0.        ],\n",
       "       [0.        , 0.        , 0.        , 0.        , 0.        ,\n",
       "        0.        , 0.        , 0.        , 0.        , 0.        ,\n",
       "        0.        , 0.        , 0.        , 0.        , 0.        ,\n",
       "        0.        , 0.2955876 , 0.        , 0.2955876 , 0.        ,\n",
       "        0.        , 0.        , 0.        , 0.        , 0.        ,\n",
       "        0.2955876 , 0.2955876 , 0.        , 0.        , 0.        ,\n",
       "        0.        , 0.        , 0.        , 0.2955876 , 0.        ,\n",
       "        0.2955876 , 0.        , 0.2955876 , 0.2955876 , 0.        ,\n",
       "        0.        , 0.2955876 , 0.        , 0.        , 0.        ,\n",
       "        0.        , 0.        , 0.2955876 , 0.        , 0.25127646,\n",
       "        0.        , 0.25127646, 0.        , 0.        , 0.        ,\n",
       "        0.        ]])"
      ]
     },
     "execution_count": 12,
     "metadata": {},
     "output_type": "execute_result"
    }
   ],
   "source": [
    "X_data"
   ]
  }
 ],
 "metadata": {
  "kernelspec": {
   "display_name": "Python 3",
   "language": "python",
   "name": "python3"
  },
  "language_info": {
   "codemirror_mode": {
    "name": "ipython",
    "version": 3
   },
   "file_extension": ".py",
   "mimetype": "text/x-python",
   "name": "python",
   "nbconvert_exporter": "python",
   "pygments_lexer": "ipython3",
   "version": "3.7.0"
  }
 },
 "nbformat": 4,
 "nbformat_minor": 5
}
