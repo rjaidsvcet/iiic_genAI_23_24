{
 "cells": [
  {
   "cell_type": "markdown",
   "id": "horizontal-vermont",
   "metadata": {},
   "source": [
    "<b>Stemming</b> : Used to generate the root stem of the word. This gives a concise vocabulary to be further processed. "
   ]
  },
  {
   "cell_type": "code",
   "execution_count": 1,
   "id": "medical-lloyd",
   "metadata": {},
   "outputs": [],
   "source": [
    "from nltk.stem import PorterStemmer"
   ]
  },
  {
   "cell_type": "code",
   "execution_count": 2,
   "id": "baking-camping",
   "metadata": {},
   "outputs": [],
   "source": [
    "porter = PorterStemmer()"
   ]
  },
  {
   "cell_type": "code",
   "execution_count": 3,
   "id": "sorted-picnic",
   "metadata": {},
   "outputs": [],
   "source": [
    "words = ['play', 'plays', 'played', 'playing', 'player']"
   ]
  },
  {
   "cell_type": "code",
   "execution_count": 4,
   "id": "above-province",
   "metadata": {},
   "outputs": [],
   "source": [
    "stemmed = [porter.stem(x) for x in words]"
   ]
  },
  {
   "cell_type": "code",
   "execution_count": 5,
   "id": "convenient-mills",
   "metadata": {},
   "outputs": [
    {
     "data": {
      "text/plain": [
       "['play', 'play', 'play', 'play', 'player']"
      ]
     },
     "execution_count": 5,
     "metadata": {},
     "output_type": "execute_result"
    }
   ],
   "source": [
    "stemmed"
   ]
  },
  {
   "cell_type": "markdown",
   "id": "driven-marketplace",
   "metadata": {},
   "source": [
    "**Lemmatization** : This has a more expansive vocabulary than *Stemming*. \\\n",
    "This gives a better edge for deriving the semantics as it not just the root of the word. The words hold a proper meaning."
   ]
  },
  {
   "cell_type": "code",
   "execution_count": 6,
   "id": "comparative-conversation",
   "metadata": {},
   "outputs": [],
   "source": [
    "from nltk.stem import WordNetLemmatizer\n",
    "wordnet = WordNetLemmatizer()"
   ]
  },
  {
   "cell_type": "code",
   "execution_count": 7,
   "id": "interpreted-dominant",
   "metadata": {},
   "outputs": [],
   "source": [
    "lemmatized = [wordnet.lemmatize(x) for x in words]"
   ]
  },
  {
   "cell_type": "code",
   "execution_count": 8,
   "id": "guilty-conjunction",
   "metadata": {},
   "outputs": [
    {
     "data": {
      "text/plain": [
       "['play', 'play', 'played', 'playing', 'player']"
      ]
     },
     "execution_count": 8,
     "metadata": {},
     "output_type": "execute_result"
    }
   ],
   "source": [
    "lemmatized"
   ]
  },
  {
   "cell_type": "markdown",
   "id": "engaging-theta",
   "metadata": {},
   "source": [
    "Link to the YouTube channel for such more content : https://www.youtube.com/c/RaunakJoshi"
   ]
  },
  {
   "cell_type": "code",
   "execution_count": null,
   "id": "romance-trick",
   "metadata": {},
   "outputs": [],
   "source": []
  }
 ],
 "metadata": {
  "kernelspec": {
   "display_name": "Python 3",
   "language": "python",
   "name": "python3"
  },
  "language_info": {
   "codemirror_mode": {
    "name": "ipython",
    "version": 3
   },
   "file_extension": ".py",
   "mimetype": "text/x-python",
   "name": "python",
   "nbconvert_exporter": "python",
   "pygments_lexer": "ipython3",
   "version": "3.11.5"
  }
 },
 "nbformat": 4,
 "nbformat_minor": 5
}
