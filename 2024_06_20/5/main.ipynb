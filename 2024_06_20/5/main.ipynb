{
 "cells": [
  {
   "cell_type": "code",
   "execution_count": 1,
   "metadata": {},
   "outputs": [
    {
     "data": {
      "text/plain": [
       "True"
      ]
     },
     "execution_count": 1,
     "metadata": {},
     "output_type": "execute_result"
    }
   ],
   "source": [
    "import os\n",
    "from dotenv import load_dotenv\n",
    "load_dotenv ()"
   ]
  },
  {
   "cell_type": "code",
   "execution_count": 2,
   "metadata": {},
   "outputs": [
    {
     "data": {
      "text/plain": [
       "str"
      ]
     },
     "execution_count": 2,
     "metadata": {},
     "output_type": "execute_result"
    }
   ],
   "source": [
    "HF_TOKEN = os.getenv ('HF_TOKEN')\n",
    "type (HF_TOKEN)"
   ]
  },
  {
   "cell_type": "code",
   "execution_count": 3,
   "metadata": {},
   "outputs": [],
   "source": [
    "from langchain_huggingface import HuggingFaceEndpoint"
   ]
  },
  {
   "cell_type": "code",
   "execution_count": 4,
   "metadata": {},
   "outputs": [],
   "source": [
    "repository_id = 'mistralai/Mistral-7B-Instruct-v0.3'"
   ]
  },
  {
   "cell_type": "code",
   "execution_count": 6,
   "metadata": {},
   "outputs": [
    {
     "name": "stdout",
     "output_type": "stream",
     "text": [
      "The token has not been saved to the git credentials helper. Pass `add_to_git_credential=True` in this function directly or `--add-to-git-credential` if using via `huggingface-cli` if you want to set the git credential as well.\n",
      "Token is valid (permission: read).\n",
      "Your token has been saved to C:\\Users\\admin\\.cache\\huggingface\\token\n",
      "Login successful\n"
     ]
    }
   ],
   "source": [
    "model = HuggingFaceEndpoint (\n",
    "    endpoint_url = repository_id,\n",
    "    temperature = 0.7,\n",
    "    max_new_tokens = 128,\n",
    "    huggingfacehub_api_token = HF_TOKEN\n",
    ")"
   ]
  },
  {
   "cell_type": "code",
   "execution_count": 8,
   "metadata": {},
   "outputs": [
    {
     "data": {
      "text/plain": [
       "'?\\n\\nGenerative AI is a type of artificial intelligence that can create new content, such as images, music, and text, by learning patterns and structures from existing data. It is called \"generative\" because it can generate new content that was not explicitly programmed or trained on.\\n\\nGenerative AI models work by learning the statistical structure of the data they are trained on, and then using that structure to generate new, synthetic data that resembles the original data. This is done through a process called optimization, where the model adjusts its parameters to minimize the difference between the synthetic data it generates and the original data'"
      ]
     },
     "execution_count": 8,
     "metadata": {},
     "output_type": "execute_result"
    }
   ],
   "source": [
    "model.invoke ('What is generative AI')"
   ]
  },
  {
   "cell_type": "code",
   "execution_count": 9,
   "metadata": {},
   "outputs": [],
   "source": [
    "from langchain_core.prompts import PromptTemplate"
   ]
  },
  {
   "cell_type": "code",
   "execution_count": 10,
   "metadata": {},
   "outputs": [],
   "source": [
    "question = 'What is the difference between RNN and CNN'"
   ]
  },
  {
   "cell_type": "code",
   "execution_count": 11,
   "metadata": {},
   "outputs": [],
   "source": [
    "template = '''\n",
    "    Question : {question}\n",
    "    Answer : Provide the answer step by step\n",
    "'''"
   ]
  },
  {
   "cell_type": "code",
   "execution_count": 12,
   "metadata": {},
   "outputs": [],
   "source": [
    "prompt = PromptTemplate (\n",
    "    template = template,\n",
    "    input_variables = ['question']\n",
    ")"
   ]
  },
  {
   "cell_type": "code",
   "execution_count": 13,
   "metadata": {},
   "outputs": [
    {
     "name": "stdout",
     "output_type": "stream",
     "text": [
      "input_variables=['question'] template='\\n    Question : {question}\\n    Answer : Provide the answer step by step\\n'\n"
     ]
    }
   ],
   "source": [
    "print (prompt)"
   ]
  },
  {
   "cell_type": "code",
   "execution_count": 14,
   "metadata": {},
   "outputs": [],
   "source": [
    "llmChain = prompt | model"
   ]
  },
  {
   "cell_type": "code",
   "execution_count": 15,
   "metadata": {},
   "outputs": [],
   "source": [
    "response = llmChain.invoke (question)"
   ]
  },
  {
   "cell_type": "code",
   "execution_count": 17,
   "metadata": {},
   "outputs": [],
   "source": [
    "newResponse = llmChain.invoke ({\n",
    "    'question' : question\n",
    "})"
   ]
  },
  {
   "cell_type": "code",
   "execution_count": 18,
   "metadata": {},
   "outputs": [
    {
     "name": "stdout",
     "output_type": "stream",
     "text": [
      "\n",
      "1. Recurrent Neural Network (RNN):\n",
      "   - RNN is a type of artificial neural network where connections between nodes form directed cycles. This allows information to persist for a certain number of time steps, making it useful for sequential data like text, speech, or music.\n",
      "   - RNNs can learn patterns in sequences by maintaining an internal state, which is a vector that represents the network's memory of the previous input(s).\n",
      "\n",
      "2. Convolutional Neural Network (CNN):\n",
      "   - CNN is a type of deep learning neural network that is most commonly\n"
     ]
    }
   ],
   "source": [
    "print (newResponse)"
   ]
  },
  {
   "cell_type": "code",
   "execution_count": 16,
   "metadata": {},
   "outputs": [
    {
     "name": "stdout",
     "output_type": "stream",
     "text": [
      "\n",
      "1. Recurrent Neural Network (RNN):\n",
      "   - RNN is a type of artificial neural network where connections between nodes form directed cycles. This allows information to persist for a certain number of time steps, making it useful for sequential data like text, speech, or music.\n",
      "   - RNNs can learn patterns in sequences by maintaining an internal state, which is a vector that represents the network's memory of the previous input(s).\n",
      "\n",
      "2. Convolutional Neural Network (CNN):\n",
      "   - CNN is a type of deep learning neural network that is most commonly\n"
     ]
    }
   ],
   "source": [
    "print (response)"
   ]
  },
  {
   "cell_type": "code",
   "execution_count": null,
   "metadata": {},
   "outputs": [],
   "source": []
  }
 ],
 "metadata": {
  "kernelspec": {
   "display_name": "workshop",
   "language": "python",
   "name": "python3"
  },
  "language_info": {
   "codemirror_mode": {
    "name": "ipython",
    "version": 3
   },
   "file_extension": ".py",
   "mimetype": "text/x-python",
   "name": "python",
   "nbconvert_exporter": "python",
   "pygments_lexer": "ipython3",
   "version": "3.11.5"
  }
 },
 "nbformat": 4,
 "nbformat_minor": 2
}
